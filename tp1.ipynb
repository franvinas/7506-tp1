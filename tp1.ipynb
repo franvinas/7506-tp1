{
 "cells": [
  {
   "cell_type": "markdown",
   "id": "249d417e",
   "metadata": {
    "tags": []
   },
   "source": [
    "# Organización de Datos (75.06/95.58)\n",
    "## Primer Cuatrimestre 2021\n",
    "### Trabajo Práctico N°1\n",
    "#### Curso 1: Argerich\n",
    "\n",
    "----\n",
    "\n",
    "##### Introducción:\n",
    "En el año 2015 Nepal fue afectado por el terremoto Gorkha, un sismo que registró una\n",
    "magnitud de 7.8 en la escala Richter y tuvo su epicentro en la ciudad de Kathmandu.\n",
    "Aproximadamente 600,000 estructuras en el centro y pueblos aledaños fueron dañadas o\n",
    "destruidas. Un análisis posterior al sismo llevado por la Comisión Nacional de\n",
    "Planeamiento de Nepal comunicó que la pérdida total económica ocasionada por el\n",
    "terremoto fue de aproximadamente $7 mil millones (USD; NPC, 2015).\n",
    "El dataset para el presente TP está compuesto de encuestas realizadas por Kathmandu\n",
    "Living Labs y el Central Bureau of Statistics y contiene información sobre el impacto del\n",
    "terremoto, estado de viviendas y estadísticas sociodemográficas.\n",
    "Particularmente el dataset se enfoca en cómo eran las condiciones de una determinada vivienda y cuál fue su grado de daño luego del accidente. \n",
    "\n",
    "##### Objetivo:\n",
    "El TP consiste en realizar un análisis exploratorio de los datos provistos con el objetivo de\n",
    "determinar características y variables importantes, descubrir insights interesantes, y\n",
    "analizar la estructura de los mismos."
   ]
  },
  {
   "cell_type": "markdown",
   "id": "ed74a020",
   "metadata": {},
   "source": [
    "# Analisis exploratorio de los datos\n",
    "#### Empecemos importando los recursos necesarios"
   ]
  },
  {
   "cell_type": "code",
   "execution_count": 2,
   "id": "e68af459",
   "metadata": {},
   "outputs": [],
   "source": [
    "# importacion general de librerias y de visualizacion (matplotlib y seaborn)\n",
    "import pandas as pd\n",
    "import numpy as np\n",
    "import matplotlib.pyplot as plt\n",
    "import seaborn as sns"
   ]
  },
  {
   "cell_type": "code",
   "execution_count": 3,
   "id": "7950651f",
   "metadata": {},
   "outputs": [],
   "source": [
    "# lectura de archivos csv\n",
    "train_values=pd.read_csv('train_values.csv')\n",
    "train_labels=pd.read_csv('train_labels.csv')"
   ]
  },
  {
   "cell_type": "markdown",
   "id": "f08034b2",
   "metadata": {},
   "source": [
    "### Limpieza de datos\n",
    "- ¿Hay datos faltantes?\n",
    "    - ¿Son muchos? Caso contrario podriamos simplemente filtrarlos.\n",
    "- ¿Todos los datos estan con el formato correcto?\n",
    "    - ¿Es necesario transformar alguna columna a tipo categórico/numérico/date_time?\n",
    "- ¿Los dataframes son muy grandes?\n",
    "    - ¿Es necesario algun trabajo previo para minimizar el espacio en memoria?\n",
    "- ¿Hay datos que no tengan sentido?\n",
    "    - Cuyos valores sean muy grandes para el contexto\n",
    "    - Que no sean posibles"
   ]
  },
  {
   "cell_type": "markdown",
   "id": "4574a161",
   "metadata": {},
   "source": [
    "#### Reviso valores null en mis dataframes"
   ]
  },
  {
   "cell_type": "code",
   "execution_count": 11,
   "id": "31279620",
   "metadata": {},
   "outputs": [
    {
     "data": {
      "text/plain": [
       "building_id     False\n",
       "damage_grade    False\n",
       "dtype: bool"
      ]
     },
     "execution_count": 11,
     "metadata": {},
     "output_type": "execute_result"
    }
   ],
   "source": [
    "train_labels.isnull().any()"
   ]
  },
  {
   "cell_type": "code",
   "execution_count": 12,
   "id": "ecde28a1",
   "metadata": {},
   "outputs": [
    {
     "data": {
      "text/plain": [
       "building_id                               False\n",
       "geo_level_1_id                            False\n",
       "geo_level_2_id                            False\n",
       "geo_level_3_id                            False\n",
       "count_floors_pre_eq                       False\n",
       "age                                       False\n",
       "area_percentage                           False\n",
       "height_percentage                         False\n",
       "land_surface_condition                    False\n",
       "foundation_type                           False\n",
       "roof_type                                 False\n",
       "ground_floor_type                         False\n",
       "other_floor_type                          False\n",
       "position                                  False\n",
       "plan_configuration                        False\n",
       "has_superstructure_adobe_mud              False\n",
       "has_superstructure_mud_mortar_stone       False\n",
       "has_superstructure_stone_flag             False\n",
       "has_superstructure_cement_mortar_stone    False\n",
       "has_superstructure_mud_mortar_brick       False\n",
       "has_superstructure_cement_mortar_brick    False\n",
       "has_superstructure_timber                 False\n",
       "has_superstructure_bamboo                 False\n",
       "has_superstructure_rc_non_engineered      False\n",
       "has_superstructure_rc_engineered          False\n",
       "has_superstructure_other                  False\n",
       "legal_ownership_status                    False\n",
       "count_families                            False\n",
       "has_secondary_use                         False\n",
       "has_secondary_use_agriculture             False\n",
       "has_secondary_use_hotel                   False\n",
       "has_secondary_use_rental                  False\n",
       "has_secondary_use_institution             False\n",
       "has_secondary_use_school                  False\n",
       "has_secondary_use_industry                False\n",
       "has_secondary_use_health_post             False\n",
       "has_secondary_use_gov_office              False\n",
       "has_secondary_use_use_police              False\n",
       "has_secondary_use_other                   False\n",
       "dtype: bool"
      ]
     },
     "execution_count": 12,
     "metadata": {},
     "output_type": "execute_result"
    }
   ],
   "source": [
    "train_values.isnull().any()"
   ]
  },
  {
   "cell_type": "markdown",
   "id": "012a2e74",
   "metadata": {},
   "source": [
    "Podemos ver que, por suerte, **ninguno de los dataframes contienen valores NaN.**  \n",
    "Esto quiere decir que no será necesario ningún tipo de filtro en los datasets a causa de valores faltantes."
   ]
  },
  {
   "cell_type": "markdown",
   "id": "c33e2180",
   "metadata": {},
   "source": [
    "#### Chequeando formato de los datos"
   ]
  },
  {
   "cell_type": "markdown",
   "id": "15718209",
   "metadata": {},
   "source": [
    "#### Manejo de memoria del dataset"
   ]
  },
  {
   "cell_type": "markdown",
   "id": "9fbaf340",
   "metadata": {},
   "source": [
    "#### Buscando datos fuera de lo común"
   ]
  },
  {
   "cell_type": "code",
   "execution_count": 3,
   "id": "baf15475",
   "metadata": {},
   "outputs": [
    {
     "data": {
      "text/html": [
       "<div>\n",
       "<style scoped>\n",
       "    .dataframe tbody tr th:only-of-type {\n",
       "        vertical-align: middle;\n",
       "    }\n",
       "\n",
       "    .dataframe tbody tr th {\n",
       "        vertical-align: top;\n",
       "    }\n",
       "\n",
       "    .dataframe thead th {\n",
       "        text-align: right;\n",
       "    }\n",
       "</style>\n",
       "<table border=\"1\" class=\"dataframe\">\n",
       "  <thead>\n",
       "    <tr style=\"text-align: right;\">\n",
       "      <th></th>\n",
       "      <th>building_id</th>\n",
       "      <th>geo_level_1_id</th>\n",
       "      <th>geo_level_2_id</th>\n",
       "      <th>geo_level_3_id</th>\n",
       "      <th>count_floors_pre_eq</th>\n",
       "      <th>age</th>\n",
       "      <th>area_percentage</th>\n",
       "      <th>height_percentage</th>\n",
       "      <th>land_surface_condition</th>\n",
       "      <th>foundation_type</th>\n",
       "      <th>...</th>\n",
       "      <th>has_secondary_use_agriculture</th>\n",
       "      <th>has_secondary_use_hotel</th>\n",
       "      <th>has_secondary_use_rental</th>\n",
       "      <th>has_secondary_use_institution</th>\n",
       "      <th>has_secondary_use_school</th>\n",
       "      <th>has_secondary_use_industry</th>\n",
       "      <th>has_secondary_use_health_post</th>\n",
       "      <th>has_secondary_use_gov_office</th>\n",
       "      <th>has_secondary_use_use_police</th>\n",
       "      <th>has_secondary_use_other</th>\n",
       "    </tr>\n",
       "  </thead>\n",
       "  <tbody>\n",
       "    <tr>\n",
       "      <th>0</th>\n",
       "      <td>802906</td>\n",
       "      <td>6</td>\n",
       "      <td>487</td>\n",
       "      <td>12198</td>\n",
       "      <td>2</td>\n",
       "      <td>30</td>\n",
       "      <td>6</td>\n",
       "      <td>5</td>\n",
       "      <td>t</td>\n",
       "      <td>r</td>\n",
       "      <td>...</td>\n",
       "      <td>0</td>\n",
       "      <td>0</td>\n",
       "      <td>0</td>\n",
       "      <td>0</td>\n",
       "      <td>0</td>\n",
       "      <td>0</td>\n",
       "      <td>0</td>\n",
       "      <td>0</td>\n",
       "      <td>0</td>\n",
       "      <td>0</td>\n",
       "    </tr>\n",
       "    <tr>\n",
       "      <th>1</th>\n",
       "      <td>28830</td>\n",
       "      <td>8</td>\n",
       "      <td>900</td>\n",
       "      <td>2812</td>\n",
       "      <td>2</td>\n",
       "      <td>10</td>\n",
       "      <td>8</td>\n",
       "      <td>7</td>\n",
       "      <td>o</td>\n",
       "      <td>r</td>\n",
       "      <td>...</td>\n",
       "      <td>0</td>\n",
       "      <td>0</td>\n",
       "      <td>0</td>\n",
       "      <td>0</td>\n",
       "      <td>0</td>\n",
       "      <td>0</td>\n",
       "      <td>0</td>\n",
       "      <td>0</td>\n",
       "      <td>0</td>\n",
       "      <td>0</td>\n",
       "    </tr>\n",
       "    <tr>\n",
       "      <th>2</th>\n",
       "      <td>94947</td>\n",
       "      <td>21</td>\n",
       "      <td>363</td>\n",
       "      <td>8973</td>\n",
       "      <td>2</td>\n",
       "      <td>10</td>\n",
       "      <td>5</td>\n",
       "      <td>5</td>\n",
       "      <td>t</td>\n",
       "      <td>r</td>\n",
       "      <td>...</td>\n",
       "      <td>0</td>\n",
       "      <td>0</td>\n",
       "      <td>0</td>\n",
       "      <td>0</td>\n",
       "      <td>0</td>\n",
       "      <td>0</td>\n",
       "      <td>0</td>\n",
       "      <td>0</td>\n",
       "      <td>0</td>\n",
       "      <td>0</td>\n",
       "    </tr>\n",
       "    <tr>\n",
       "      <th>3</th>\n",
       "      <td>590882</td>\n",
       "      <td>22</td>\n",
       "      <td>418</td>\n",
       "      <td>10694</td>\n",
       "      <td>2</td>\n",
       "      <td>10</td>\n",
       "      <td>6</td>\n",
       "      <td>5</td>\n",
       "      <td>t</td>\n",
       "      <td>r</td>\n",
       "      <td>...</td>\n",
       "      <td>0</td>\n",
       "      <td>0</td>\n",
       "      <td>0</td>\n",
       "      <td>0</td>\n",
       "      <td>0</td>\n",
       "      <td>0</td>\n",
       "      <td>0</td>\n",
       "      <td>0</td>\n",
       "      <td>0</td>\n",
       "      <td>0</td>\n",
       "    </tr>\n",
       "    <tr>\n",
       "      <th>4</th>\n",
       "      <td>201944</td>\n",
       "      <td>11</td>\n",
       "      <td>131</td>\n",
       "      <td>1488</td>\n",
       "      <td>3</td>\n",
       "      <td>30</td>\n",
       "      <td>8</td>\n",
       "      <td>9</td>\n",
       "      <td>t</td>\n",
       "      <td>r</td>\n",
       "      <td>...</td>\n",
       "      <td>0</td>\n",
       "      <td>0</td>\n",
       "      <td>0</td>\n",
       "      <td>0</td>\n",
       "      <td>0</td>\n",
       "      <td>0</td>\n",
       "      <td>0</td>\n",
       "      <td>0</td>\n",
       "      <td>0</td>\n",
       "      <td>0</td>\n",
       "    </tr>\n",
       "  </tbody>\n",
       "</table>\n",
       "<p>5 rows × 39 columns</p>\n",
       "</div>"
      ],
      "text/plain": [
       "   building_id  geo_level_1_id  geo_level_2_id  geo_level_3_id  \\\n",
       "0       802906               6             487           12198   \n",
       "1        28830               8             900            2812   \n",
       "2        94947              21             363            8973   \n",
       "3       590882              22             418           10694   \n",
       "4       201944              11             131            1488   \n",
       "\n",
       "   count_floors_pre_eq  age  area_percentage  height_percentage  \\\n",
       "0                    2   30                6                  5   \n",
       "1                    2   10                8                  7   \n",
       "2                    2   10                5                  5   \n",
       "3                    2   10                6                  5   \n",
       "4                    3   30                8                  9   \n",
       "\n",
       "  land_surface_condition foundation_type  ... has_secondary_use_agriculture  \\\n",
       "0                      t               r  ...                             0   \n",
       "1                      o               r  ...                             0   \n",
       "2                      t               r  ...                             0   \n",
       "3                      t               r  ...                             0   \n",
       "4                      t               r  ...                             0   \n",
       "\n",
       "  has_secondary_use_hotel has_secondary_use_rental  \\\n",
       "0                       0                        0   \n",
       "1                       0                        0   \n",
       "2                       0                        0   \n",
       "3                       0                        0   \n",
       "4                       0                        0   \n",
       "\n",
       "  has_secondary_use_institution has_secondary_use_school  \\\n",
       "0                             0                        0   \n",
       "1                             0                        0   \n",
       "2                             0                        0   \n",
       "3                             0                        0   \n",
       "4                             0                        0   \n",
       "\n",
       "   has_secondary_use_industry  has_secondary_use_health_post  \\\n",
       "0                           0                              0   \n",
       "1                           0                              0   \n",
       "2                           0                              0   \n",
       "3                           0                              0   \n",
       "4                           0                              0   \n",
       "\n",
       "   has_secondary_use_gov_office  has_secondary_use_use_police  \\\n",
       "0                             0                             0   \n",
       "1                             0                             0   \n",
       "2                             0                             0   \n",
       "3                             0                             0   \n",
       "4                             0                             0   \n",
       "\n",
       "   has_secondary_use_other  \n",
       "0                        0  \n",
       "1                        0  \n",
       "2                        0  \n",
       "3                        0  \n",
       "4                        0  \n",
       "\n",
       "[5 rows x 39 columns]"
      ]
     },
     "execution_count": 3,
     "metadata": {},
     "output_type": "execute_result"
    }
   ],
   "source": [
    "train_values.head()"
   ]
  },
  {
   "cell_type": "code",
   "execution_count": 4,
   "id": "a9b22814",
   "metadata": {},
   "outputs": [
    {
     "data": {
      "text/html": [
       "<div>\n",
       "<style scoped>\n",
       "    .dataframe tbody tr th:only-of-type {\n",
       "        vertical-align: middle;\n",
       "    }\n",
       "\n",
       "    .dataframe tbody tr th {\n",
       "        vertical-align: top;\n",
       "    }\n",
       "\n",
       "    .dataframe thead th {\n",
       "        text-align: right;\n",
       "    }\n",
       "</style>\n",
       "<table border=\"1\" class=\"dataframe\">\n",
       "  <thead>\n",
       "    <tr style=\"text-align: right;\">\n",
       "      <th></th>\n",
       "      <th>building_id</th>\n",
       "      <th>damage_grade</th>\n",
       "    </tr>\n",
       "  </thead>\n",
       "  <tbody>\n",
       "    <tr>\n",
       "      <th>0</th>\n",
       "      <td>802906</td>\n",
       "      <td>3</td>\n",
       "    </tr>\n",
       "    <tr>\n",
       "      <th>1</th>\n",
       "      <td>28830</td>\n",
       "      <td>2</td>\n",
       "    </tr>\n",
       "    <tr>\n",
       "      <th>2</th>\n",
       "      <td>94947</td>\n",
       "      <td>3</td>\n",
       "    </tr>\n",
       "    <tr>\n",
       "      <th>3</th>\n",
       "      <td>590882</td>\n",
       "      <td>2</td>\n",
       "    </tr>\n",
       "    <tr>\n",
       "      <th>4</th>\n",
       "      <td>201944</td>\n",
       "      <td>3</td>\n",
       "    </tr>\n",
       "  </tbody>\n",
       "</table>\n",
       "</div>"
      ],
      "text/plain": [
       "   building_id  damage_grade\n",
       "0       802906             3\n",
       "1        28830             2\n",
       "2        94947             3\n",
       "3       590882             2\n",
       "4       201944             3"
      ]
     },
     "execution_count": 4,
     "metadata": {},
     "output_type": "execute_result"
    }
   ],
   "source": [
    "train_labels.head()"
   ]
  },
  {
   "cell_type": "markdown",
   "id": "da9a0508",
   "metadata": {},
   "source": [
    "## Analisis por región geográfica"
   ]
  },
  {
   "cell_type": "markdown",
   "id": "b4a7d1a2",
   "metadata": {},
   "source": [
    "Tenemos 3 grados de daño posibles. Primero analizamos cuantas edificaciones fueron afectadas para cada uno de estos grados de daño sin discriminar por región geográfica."
   ]
  },
  {
   "cell_type": "code",
   "execution_count": 5,
   "id": "7a596fa2",
   "metadata": {},
   "outputs": [
    {
     "data": {
      "text/plain": [
       "<AxesSubplot:>"
      ]
     },
     "execution_count": 5,
     "metadata": {},
     "output_type": "execute_result"
    },
    {
     "data": {
      "image/png": "[encoded data removed]",
      "text/plain": [
       "<Figure size 432x288 with 1 Axes>"
      ]
     },
     "metadata": {
      "needs_background": "light"
     },
     "output_type": "display_data"
    }
   ],
   "source": [
    "general_damage = train_labels['damage_grade'].value_counts(sort=False)\n",
    "general_damage.plot(kind='bar', rot=0)"
   ]
  },
  {
   "cell_type": "code",
   "execution_count": 16,
   "id": "8010f4d7",
   "metadata": {},
   "outputs": [
    {
     "data": {
      "text/plain": [
       "Text(0.5, 0, 'Region')"
      ]
     },
     "execution_count": 16,
     "metadata": {},
     "output_type": "execute_result"
    },
    {
     "data": {
      "image/png": "[encoded data removed]",
      "text/plain": [
       "<Figure size 432x288 with 1 Axes>"
      ]
     },
     "metadata": {
      "needs_background": "light"
     },
     "output_type": "display_data"
    }
   ],
   "source": [
    "geo_level_1 = train_values[['building_id','geo_level_1_id']].merge(train_labels)\n",
    "geo_level_1['geo_level_1_id'].value_counts().nlargest(10).plot(kind='bar', rot=0, title='Edificaciones dañadas por región')\n",
    "ax=plt.gca()\n",
    "ax.set_ylabel('Cantidad de edificaciones')\n",
    "ax.set_xlabel('Region')"
   ]
  },
  {
   "cell_type": "code",
   "execution_count": 17,
   "id": "8f5b3e19",
   "metadata": {},
   "outputs": [
    {
     "data": {
      "text/plain": [
       "Text(0.5, 0, 'Region')"
      ]
     },
     "execution_count": 17,
     "metadata": {},
     "output_type": "execute_result"
    },
    {
     "data": {
      "image/png": "[encoded data removed]",
      "text/plain": [
       "<Figure size 432x288 with 1 Axes>"
      ]
     },
     "metadata": {
      "needs_background": "light"
     },
     "output_type": "display_data"
    }
   ],
   "source": [
    "geo_level_1.loc[geo_level_1['damage_grade']==3, 'geo_level_1_id'].value_counts().nlargest(10).plot(kind='bar', rot=0, title='Daño de grado 3')\n",
    "ax=plt.gca()\n",
    "ax.set_ylabel('Cantidad de edificaciones')\n",
    "ax.set_xlabel('Region')"
   ]
  },
  {
   "cell_type": "markdown",
   "id": "103a6a1a",
   "metadata": {},
   "source": [
    "Vemos que la región 17 tuvo muchas edificaciones fue recibieron un daño de grado 3."
   ]
  },
  {
   "cell_type": "code",
   "execution_count": null,
   "id": "fd1fac67",
   "metadata": {},
   "outputs": [],
   "source": []
  }
 ],
 "metadata": {
  "kernelspec": {
   "display_name": "Python 3",
   "language": "python",
   "name": "python3"
  },
  "language_info": {
   "codemirror_mode": {
    "name": "ipython",
    "version": 3
   },
   "file_extension": ".py",
   "mimetype": "text/x-python",
   "name": "python",
   "nbconvert_exporter": "python",
   "pygments_lexer": "ipython3",
   "version": "3.8.5"
  }
 },
 "nbformat": 4,
 "nbformat_minor": 5
}
