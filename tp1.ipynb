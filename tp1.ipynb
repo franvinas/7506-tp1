{
 "cells": [
  {
   "cell_type": "markdown",
   "id": "602bf446",
   "metadata": {
    "tags": []
   },
   "source": [
    "# Organización de Datos (75.06/95.58)\n",
    "## Primer Cuatrimestre 2021\n",
    "### Trabajo Práctico N°1\n",
    "#### Curso 1: Argerich\n",
    "\n",
    "----\n",
    "\n",
    "##### Introducción:\n",
    "En el año 2015 Nepal fue afectado por el terremoto Gorkha, un sismo que registró una\n",
    "magnitud de 7.8 en la escala Richter y tuvo su epicentro en la ciudad de Kathmandu.\n",
    "Aproximadamente 600,000 estructuras en el centro y pueblos aledaños fueron dañadas o\n",
    "destruidas. Un análisis posterior al sismo llevado por la Comisión Nacional de\n",
    "Planeamiento de Nepal comunicó que la pérdida total económica ocasionada por el\n",
    "terremoto fue de aproximadamente $7 mil millones (USD; NPC, 2015).\n",
    "El dataset para el presente TP está compuesto de encuestas realizadas por Kathmandu\n",
    "Living Labs y el Central Bureau of Statistics y contiene información sobre el impacto del\n",
    "terremoto, estado de viviendas y estadísticas sociodemográficas.\n",
    "Particularmente el dataset se enfoca en cómo eran las condiciones de una determinada vivienda y cuál fue su grado de daño luego del accidente. \n",
    "\n",
    "##### Objetivo:\n",
    "El TP consiste en realizar un análisis exploratorio de los datos provistos con el objetivo de\n",
    "determinar características y variables importantes, descubrir insights interesantes, y\n",
    "analizar la estructura de los mismos."
   ]
  },
  {
   "cell_type": "markdown",
   "id": "642576d4",
   "metadata": {},
   "source": [
    "# Analisis exploratorio de los datos\n",
    "#### Empecemos importando los recursos necesarios"
   ]
  },
  {
   "cell_type": "code",
   "execution_count": null,
   "id": "e810fd97",
   "metadata": {},
   "outputs": [],
   "source": [
    "# importacion general de librerias y de visualizacion (matplotlib y seaborn)\n",
    "import pandas as pd\n",
    "import numpy as np\n",
    "import matplotlib.pyplot as plt\n",
    "import seaborn as sns"
   ]
  },
  {
   "cell_type": "code",
   "execution_count": null,
   "id": "e2923496",
   "metadata": {},
   "outputs": [],
   "source": [
    "# lectura de archivos csv\n",
    "train_values=pd.read_csv('train_values.csv',\n",
    "                        dtype={\n",
    "                            'geo_level_1_id':'int8',\n",
    "                            'geo_level_2_id':'int16',\n",
    "                            'geo_level_3_id':'int16',\n",
    "                            'count_floors_pre_eq':'int8',\n",
    "                            'age':'int16',\n",
    "                            'area_percentage':'int8',\n",
    "                            'height_percentage':'int8',\n",
    "                            'land_surface_condition':'category',                 \n",
    "                            'foundation_type':'category',                          \n",
    "                            'roof_type':'category',                                 \n",
    "                            'ground_floor_type':'category',                        \n",
    "                            'other_floor_type':'category',                          \n",
    "                            'position':'category',                                  \n",
    "                            'plan_configuration':'category',\n",
    "                            'has_superstructure_adobe_mud':'bool',               \n",
    "                            'has_superstructure_mud_mortar_stone':'bool',        \n",
    "                            'has_superstructure_stone_flag':'bool',             \n",
    "                            'has_superstructure_cement_mortar_stone':'bool',     \n",
    "                            'has_superstructure_mud_mortar_brick':'bool',        \n",
    "                            'has_superstructure_cement_mortar_brick':'bool',     \n",
    "                            'has_superstructure_timber':'bool',                  \n",
    "                            'has_superstructure_bamboo':'bool',                  \n",
    "                            'has_superstructure_rc_non_engineered':'bool',       \n",
    "                            'has_superstructure_rc_engineered':'bool',          \n",
    "                            'has_superstructure_other':'bool',\n",
    "                            'legal_ownership_status':'category',\n",
    "                            'count_families':'int8',\n",
    "                            'has_secondary_use':'bool',                          \n",
    "                            'has_secondary_use_agriculture':'bool',             \n",
    "                            'has_secondary_use_hotel':'bool',                    \n",
    "                            'has_secondary_use_rental':'bool',                  \n",
    "                            'has_secondary_use_institution':'bool',             \n",
    "                            'has_secondary_use_school':'bool',                \n",
    "                            'has_secondary_use_industry':'bool',              \n",
    "                            'has_secondary_use_health_post':'bool',         \n",
    "                            'has_secondary_use_gov_office':'bool',           \n",
    "                            'has_secondary_use_use_police':'bool',             \n",
    "                            'has_secondary_use_other':'bool'                   \n",
    "                        })\n",
    "train_labels=pd.read_csv('train_labels.csv',\n",
    "                        dtype={\n",
    "                            'building_id':'int64',\n",
    "                            'damage_grade':'category'\n",
    "                        })"
   ]
  },
  {
   "cell_type": "markdown",
   "id": "94252fd4",
   "metadata": {},
   "source": [
    "### Limpieza de datos\n",
    "- ¿Hay datos faltantes?\n",
    "    - ¿Son muchos? Caso contrario podriamos simplemente filtrarlos.\n",
    "- ¿Todos los datos estan con el formato correcto?\n",
    "    - ¿Es necesario transformar alguna columna a tipo categórico/numérico/date_time?\n",
    "- ¿Los dataframes son muy grandes?\n",
    "    - ¿Es necesario algun trabajo previo para minimizar el espacio en memoria?\n",
    "- ¿Hay datos que no tengan sentido?\n",
    "    - Cuyos valores sean muy grandes para el contexto\n",
    "    - Que no sean posibles"
   ]
  },
  {
   "cell_type": "markdown",
   "id": "6d1e0e7d",
   "metadata": {},
   "source": [
    "#### Reviso valores null en mis dataframes"
   ]
  },
  {
   "cell_type": "code",
   "execution_count": null,
   "id": "3bf5e2b7",
   "metadata": {},
   "outputs": [],
   "source": [
    "train_labels.isnull().any()"
   ]
  },
  {
   "cell_type": "code",
   "execution_count": null,
   "id": "4e0f41d3",
   "metadata": {},
   "outputs": [],
   "source": [
    "train_values.isnull().any()"
   ]
  },
  {
   "cell_type": "markdown",
   "id": "1040d323",
   "metadata": {},
   "source": [
    "Podemos ver que, por suerte, **ninguno de los dataframes contienen valores NaN.**  \n",
    "Esto quiere decir que no será necesario ningún tipo de filtro en los datasets a causa de valores faltantes."
   ]
  },
  {
   "cell_type": "markdown",
   "id": "7c6f1393",
   "metadata": {},
   "source": [
    "#### Chequeando formato de los datos"
   ]
  },
  {
   "cell_type": "code",
   "execution_count": null,
   "id": "6b7b42ad",
   "metadata": {},
   "outputs": [],
   "source": [
    "# damage_grade originalmente era int64\n",
    "train_labels.dtypes"
   ]
  },
  {
   "cell_type": "code",
   "execution_count": 86,
   "id": "99e80c21",
   "metadata": {},
   "outputs": [
    {
     "data": {
      "text/plain": [
       "building_id                                  int64\n",
       "geo_level_1_id                                int8\n",
       "geo_level_2_id                               int16\n",
       "geo_level_3_id                               int16\n",
       "count_floors_pre_eq                           int8\n",
       "age                                          int16\n",
       "area_percentage                               int8\n",
       "height_percentage                             int8\n",
       "land_surface_condition                    category\n",
       "foundation_type                           category\n",
       "roof_type                                 category\n",
       "ground_floor_type                         category\n",
       "other_floor_type                          category\n",
       "position                                  category\n",
       "plan_configuration                        category\n",
       "has_superstructure_adobe_mud                  bool\n",
       "has_superstructure_mud_mortar_stone           bool\n",
       "has_superstructure_stone_flag                 bool\n",
       "has_superstructure_cement_mortar_stone        bool\n",
       "has_superstructure_mud_mortar_brick           bool\n",
       "has_superstructure_cement_mortar_brick        bool\n",
       "has_superstructure_timber                     bool\n",
       "has_superstructure_bamboo                     bool\n",
       "has_superstructure_rc_non_engineered          bool\n",
       "has_superstructure_rc_engineered              bool\n",
       "has_superstructure_other                      bool\n",
       "legal_ownership_status                    category\n",
       "count_families                                int8\n",
       "has_secondary_use                             bool\n",
       "has_secondary_use_agriculture                 bool\n",
       "has_secondary_use_hotel                       bool\n",
       "has_secondary_use_rental                      bool\n",
       "has_secondary_use_institution                 bool\n",
       "has_secondary_use_school                      bool\n",
       "has_secondary_use_industry                    bool\n",
       "has_secondary_use_health_post                 bool\n",
       "has_secondary_use_gov_office                  bool\n",
       "has_secondary_use_use_police                  bool\n",
       "has_secondary_use_other                       bool\n",
       "dtype: object"
      ]
     },
     "execution_count": 86,
     "metadata": {},
     "output_type": "execute_result"
    }
   ],
   "source": [
    "# Muchos valores categóricos eran objects y muchos\n",
    "# valores booleanos eran int64, cambiamos sus tipos para optimizar.\n",
    "train_values.dtypes"
   ]
  },
  {
   "cell_type": "markdown",
   "id": "2b1e5808",
   "metadata": {},
   "source": [
    "#### Manejo de memoria del dataset"
   ]
  },
  {
   "cell_type": "code",
   "execution_count": null,
   "id": "a8287ab0",
   "metadata": {},
   "outputs": [],
   "source": [
    "# El valor inicialmente (sin castear las columnas al leer el csv)\n",
    "# era de 3.97 Mb. Ahora se ve que decreció.\n",
    "(train_labels.memory_usage()/(2**20)).sum()"
   ]
  },
  {
   "cell_type": "code",
   "execution_count": null,
   "id": "23994e95",
   "metadata": {},
   "outputs": [],
   "source": [
    "# El valor inicialmente era de 77.54 Mb\n",
    "# podemos observar que ahora la memoria se usa de forma\n",
    "# mucho mas óptima.\n",
    "(train_values.memory_usage()/(2**20)).sum()"
   ]
  },
  {
   "cell_type": "markdown",
   "id": "a6cbb320",
   "metadata": {},
   "source": [
    "#### Buscando datos fuera de lo común  \n",
    "Buscamos si hay valores que no tengan sentido."
   ]
  },
  {
   "cell_type": "markdown",
   "id": "70596543",
   "metadata": {},
   "source": [
    "##### ¿Hay algun building_id en un dataset que **no** esté en el otro?\n",
    "Los comparamos y chequeamos si hay algun false, los sumamos."
   ]
  },
  {
   "cell_type": "code",
   "execution_count": null,
   "id": "eeabe28e",
   "metadata": {},
   "outputs": [],
   "source": [
    "(train_values['building_id'] != train_labels['building_id']).sum()\n",
    "#Observamos que hay correspondencia 1 a 1 entre ambos datasets\n",
    "#Eso significa que se puede hacer un merge (lo haremos mas adelante)"
   ]
  },
  {
   "cell_type": "markdown",
   "id": "e977f794",
   "metadata": {},
   "source": [
    "##### ¿Las variables geo_level_id tiene los valores que dice el enunciado?"
   ]
  },
  {
   "cell_type": "code",
   "execution_count": null,
   "id": "408a64a9",
   "metadata": {},
   "outputs": [],
   "source": [
    "#Vemos que se corresponde con el enunciado.\n",
    "train_values[['geo_level_1_id','geo_level_2_id','geo_level_3_id']].max()"
   ]
  },
  {
   "cell_type": "code",
   "execution_count": null,
   "id": "df5577e9",
   "metadata": {},
   "outputs": [],
   "source": [
    "#Se corresponde con el enunciado.\n",
    "train_values[['geo_level_1_id','geo_level_2_id','geo_level_3_id']].min()"
   ]
  },
  {
   "cell_type": "markdown",
   "id": "bb34332e",
   "metadata": {},
   "source": [
    "##### ¿Hay algun valor de cantidad de familias por hogar que nos llame la atención?"
   ]
  },
  {
   "cell_type": "code",
   "execution_count": 96,
   "id": "b6edfc11",
   "metadata": {},
   "outputs": [
    {
     "data": {
      "text/plain": [
       "1    226115\n",
       "0     20862\n",
       "2     11294\n",
       "3      1802\n",
       "4       389\n",
       "5       104\n",
       "6        22\n",
       "7         7\n",
       "9         4\n",
       "8         2\n",
       "Name: count_families, dtype: int64"
      ]
     },
     "execution_count": 96,
     "metadata": {},
     "output_type": "execute_result"
    }
   ],
   "source": [
    "#No nos llama la atencion que existan algunas casas con\n",
    "#mas de 7 familias, no consideramos que sean errores del\n",
    "#dataset.\n",
    "#Tambien observamos que hay 20 mil edificaciones sin \n",
    "#familias, esto puede ser tranquilamente por ser edificaciones\n",
    "#destinadas a otras actividades.\n",
    "train_values['count_families'].value_counts()"
   ]
  },
  {
   "cell_type": "markdown",
   "id": "4b936530",
   "metadata": {},
   "source": [
    "##### ¿Hay valores raros en la cantidad de pisos por edificio?"
   ]
  },
  {
   "cell_type": "code",
   "execution_count": 97,
   "id": "e337eb4c",
   "metadata": {},
   "outputs": [
    {
     "data": {
      "text/plain": [
       "2    156623\n",
       "3     55617\n",
       "1     40441\n",
       "4      5424\n",
       "5      2246\n",
       "6       209\n",
       "7        39\n",
       "8         1\n",
       "9         1\n",
       "Name: count_floors_pre_eq, dtype: int64"
      ]
     },
     "execution_count": 97,
     "metadata": {},
     "output_type": "execute_result"
    }
   ],
   "source": [
    "#No vemos que sea inverosimil que un solo edificio \n",
    "#tenga 9 u 8 pisos \n",
    "train_values['count_floors_pre_eq'].value_counts()"
   ]
  },
  {
   "cell_type": "markdown",
   "id": "907bfc1f",
   "metadata": {},
   "source": [
    "##### ¿Area_percentage y Height_percentage estan dentro de los valores [0,100]?\n",
    "Como se observa a continuacion, sí."
   ]
  },
  {
   "cell_type": "code",
   "execution_count": 105,
   "id": "7d3389c7",
   "metadata": {},
   "outputs": [
    {
     "data": {
      "text/plain": [
       "area_percentage      100\n",
       "height_percentage     32\n",
       "dtype: int8"
      ]
     },
     "execution_count": 105,
     "metadata": {},
     "output_type": "execute_result"
    }
   ],
   "source": [
    "train_values[['area_percentage','height_percentage']].max()"
   ]
  },
  {
   "cell_type": "code",
   "execution_count": 106,
   "id": "9f7977b7",
   "metadata": {},
   "outputs": [
    {
     "data": {
      "text/plain": [
       "area_percentage      1\n",
       "height_percentage    2\n",
       "dtype: int8"
      ]
     },
     "execution_count": 106,
     "metadata": {},
     "output_type": "execute_result"
    }
   ],
   "source": [
    "train_values[['area_percentage','height_percentage']].min()"
   ]
  },
  {
   "cell_type": "markdown",
   "id": "42d66df2",
   "metadata": {},
   "source": [
    "##### ¿Hay valores fuera de lo normal para la edad de las edificaciones?"
   ]
  },
  {
   "cell_type": "code",
   "execution_count": 117,
   "id": "92493ca6",
   "metadata": {},
   "outputs": [
    {
     "data": {
      "text/plain": [
       "10     38896\n",
       "15     36010\n",
       "5      33697\n",
       "20     32182\n",
       "0      26041\n",
       "25     24366\n",
       "30     18028\n",
       "35     10710\n",
       "40     10559\n",
       "50      7257\n",
       "45      4711\n",
       "60      3612\n",
       "80      3055\n",
       "55      2033\n",
       "70      1975\n",
       "995     1390\n",
       "100     1364\n",
       "65      1123\n",
       "90      1085\n",
       "85       847\n",
       "75       512\n",
       "95       414\n",
       "120      180\n",
       "150      142\n",
       "200      106\n",
       "110      100\n",
       "105       89\n",
       "125       37\n",
       "115       21\n",
       "130        9\n",
       "140        9\n",
       "180        7\n",
       "170        6\n",
       "160        6\n",
       "175        5\n",
       "135        5\n",
       "190        3\n",
       "145        3\n",
       "195        2\n",
       "165        2\n",
       "185        1\n",
       "155        1\n",
       "Name: age, dtype: int64"
      ]
     },
     "execution_count": 117,
     "metadata": {},
     "output_type": "execute_result"
    }
   ],
   "source": [
    "train_values['age'].value_counts()"
   ]
  },
  {
   "cell_type": "markdown",
   "id": "27e32514",
   "metadata": {},
   "source": [
    "Si bien podemos observar que hay muchos edificios con antigüedades entre 0 y 200 años (lo cual\n",
    "consideramos normal) podemos ver que **hay 1390 con antigüedades** de 995 años.  \n",
    "Lo que nos llama la atención de esto es la brecha entre el valor 200 y 995.\n",
    "- ¿Por qué no hay valores intermedios? \n",
    "- ¿Es posible que una edificación sea tan vieja?  \n",
    "\n",
    "La forma en la que decidimos interpretar estos datos es que no se tiene una fecha concreta de la construccion de estas viviendas, pero que al ser tan antiguas (mas de 200 años) se decidió ingresarlas con edades de 995 años (por eso tantas tienen exactamente esa edad).  \n",
    "Para el resto de nuestro análisis consideraremos a esas viviendas como simplemente *viviendas muy viejas*"
   ]
  },
  {
   "cell_type": "code",
   "execution_count": 118,
   "id": "42f73d8f",
   "metadata": {},
   "outputs": [
    {
     "data": {
      "text/html": [
       "<div>\n",
       "<style scoped>\n",
       "    .dataframe tbody tr th:only-of-type {\n",
       "        vertical-align: middle;\n",
       "    }\n",
       "\n",
       "    .dataframe tbody tr th {\n",
       "        vertical-align: top;\n",
       "    }\n",
       "\n",
       "    .dataframe thead th {\n",
       "        text-align: right;\n",
       "    }\n",
       "</style>\n",
       "<table border=\"1\" class=\"dataframe\">\n",
       "  <thead>\n",
       "    <tr style=\"text-align: right;\">\n",
       "      <th></th>\n",
       "      <th>building_id</th>\n",
       "      <th>geo_level_1_id</th>\n",
       "      <th>geo_level_2_id</th>\n",
       "      <th>geo_level_3_id</th>\n",
       "      <th>count_floors_pre_eq</th>\n",
       "      <th>age</th>\n",
       "      <th>area_percentage</th>\n",
       "      <th>height_percentage</th>\n",
       "      <th>land_surface_condition</th>\n",
       "      <th>foundation_type</th>\n",
       "      <th>...</th>\n",
       "      <th>has_secondary_use_agriculture</th>\n",
       "      <th>has_secondary_use_hotel</th>\n",
       "      <th>has_secondary_use_rental</th>\n",
       "      <th>has_secondary_use_institution</th>\n",
       "      <th>has_secondary_use_school</th>\n",
       "      <th>has_secondary_use_industry</th>\n",
       "      <th>has_secondary_use_health_post</th>\n",
       "      <th>has_secondary_use_gov_office</th>\n",
       "      <th>has_secondary_use_use_police</th>\n",
       "      <th>has_secondary_use_other</th>\n",
       "    </tr>\n",
       "  </thead>\n",
       "  <tbody>\n",
       "    <tr>\n",
       "      <th>0</th>\n",
       "      <td>802906</td>\n",
       "      <td>6</td>\n",
       "      <td>487</td>\n",
       "      <td>12198</td>\n",
       "      <td>2</td>\n",
       "      <td>30</td>\n",
       "      <td>6</td>\n",
       "      <td>5</td>\n",
       "      <td>t</td>\n",
       "      <td>r</td>\n",
       "      <td>...</td>\n",
       "      <td>False</td>\n",
       "      <td>False</td>\n",
       "      <td>False</td>\n",
       "      <td>False</td>\n",
       "      <td>False</td>\n",
       "      <td>False</td>\n",
       "      <td>False</td>\n",
       "      <td>False</td>\n",
       "      <td>False</td>\n",
       "      <td>False</td>\n",
       "    </tr>\n",
       "    <tr>\n",
       "      <th>1</th>\n",
       "      <td>28830</td>\n",
       "      <td>8</td>\n",
       "      <td>900</td>\n",
       "      <td>2812</td>\n",
       "      <td>2</td>\n",
       "      <td>10</td>\n",
       "      <td>8</td>\n",
       "      <td>7</td>\n",
       "      <td>o</td>\n",
       "      <td>r</td>\n",
       "      <td>...</td>\n",
       "      <td>False</td>\n",
       "      <td>False</td>\n",
       "      <td>False</td>\n",
       "      <td>False</td>\n",
       "      <td>False</td>\n",
       "      <td>False</td>\n",
       "      <td>False</td>\n",
       "      <td>False</td>\n",
       "      <td>False</td>\n",
       "      <td>False</td>\n",
       "    </tr>\n",
       "    <tr>\n",
       "      <th>2</th>\n",
       "      <td>94947</td>\n",
       "      <td>21</td>\n",
       "      <td>363</td>\n",
       "      <td>8973</td>\n",
       "      <td>2</td>\n",
       "      <td>10</td>\n",
       "      <td>5</td>\n",
       "      <td>5</td>\n",
       "      <td>t</td>\n",
       "      <td>r</td>\n",
       "      <td>...</td>\n",
       "      <td>False</td>\n",
       "      <td>False</td>\n",
       "      <td>False</td>\n",
       "      <td>False</td>\n",
       "      <td>False</td>\n",
       "      <td>False</td>\n",
       "      <td>False</td>\n",
       "      <td>False</td>\n",
       "      <td>False</td>\n",
       "      <td>False</td>\n",
       "    </tr>\n",
       "    <tr>\n",
       "      <th>3</th>\n",
       "      <td>590882</td>\n",
       "      <td>22</td>\n",
       "      <td>418</td>\n",
       "      <td>10694</td>\n",
       "      <td>2</td>\n",
       "      <td>10</td>\n",
       "      <td>6</td>\n",
       "      <td>5</td>\n",
       "      <td>t</td>\n",
       "      <td>r</td>\n",
       "      <td>...</td>\n",
       "      <td>False</td>\n",
       "      <td>False</td>\n",
       "      <td>False</td>\n",
       "      <td>False</td>\n",
       "      <td>False</td>\n",
       "      <td>False</td>\n",
       "      <td>False</td>\n",
       "      <td>False</td>\n",
       "      <td>False</td>\n",
       "      <td>False</td>\n",
       "    </tr>\n",
       "    <tr>\n",
       "      <th>4</th>\n",
       "      <td>201944</td>\n",
       "      <td>11</td>\n",
       "      <td>131</td>\n",
       "      <td>1488</td>\n",
       "      <td>3</td>\n",
       "      <td>30</td>\n",
       "      <td>8</td>\n",
       "      <td>9</td>\n",
       "      <td>t</td>\n",
       "      <td>r</td>\n",
       "      <td>...</td>\n",
       "      <td>False</td>\n",
       "      <td>False</td>\n",
       "      <td>False</td>\n",
       "      <td>False</td>\n",
       "      <td>False</td>\n",
       "      <td>False</td>\n",
       "      <td>False</td>\n",
       "      <td>False</td>\n",
       "      <td>False</td>\n",
       "      <td>False</td>\n",
       "    </tr>\n",
       "  </tbody>\n",
       "</table>\n",
       "<p>5 rows × 39 columns</p>\n",
       "</div>"
      ],
      "text/plain": [
       "   building_id  geo_level_1_id  geo_level_2_id  geo_level_3_id  \\\n",
       "0       802906               6             487           12198   \n",
       "1        28830               8             900            2812   \n",
       "2        94947              21             363            8973   \n",
       "3       590882              22             418           10694   \n",
       "4       201944              11             131            1488   \n",
       "\n",
       "   count_floors_pre_eq  age  area_percentage  height_percentage  \\\n",
       "0                    2   30                6                  5   \n",
       "1                    2   10                8                  7   \n",
       "2                    2   10                5                  5   \n",
       "3                    2   10                6                  5   \n",
       "4                    3   30                8                  9   \n",
       "\n",
       "  land_surface_condition foundation_type  ... has_secondary_use_agriculture  \\\n",
       "0                      t               r  ...                         False   \n",
       "1                      o               r  ...                         False   \n",
       "2                      t               r  ...                         False   \n",
       "3                      t               r  ...                         False   \n",
       "4                      t               r  ...                         False   \n",
       "\n",
       "  has_secondary_use_hotel has_secondary_use_rental  \\\n",
       "0                   False                    False   \n",
       "1                   False                    False   \n",
       "2                   False                    False   \n",
       "3                   False                    False   \n",
       "4                   False                    False   \n",
       "\n",
       "  has_secondary_use_institution has_secondary_use_school  \\\n",
       "0                         False                    False   \n",
       "1                         False                    False   \n",
       "2                         False                    False   \n",
       "3                         False                    False   \n",
       "4                         False                    False   \n",
       "\n",
       "   has_secondary_use_industry  has_secondary_use_health_post  \\\n",
       "0                       False                          False   \n",
       "1                       False                          False   \n",
       "2                       False                          False   \n",
       "3                       False                          False   \n",
       "4                       False                          False   \n",
       "\n",
       "   has_secondary_use_gov_office  has_secondary_use_use_police  \\\n",
       "0                         False                         False   \n",
       "1                         False                         False   \n",
       "2                         False                         False   \n",
       "3                         False                         False   \n",
       "4                         False                         False   \n",
       "\n",
       "   has_secondary_use_other  \n",
       "0                    False  \n",
       "1                    False  \n",
       "2                    False  \n",
       "3                    False  \n",
       "4                    False  \n",
       "\n",
       "[5 rows x 39 columns]"
      ]
     },
     "execution_count": 118,
     "metadata": {},
     "output_type": "execute_result"
    }
   ],
   "source": [
    "train_values.head()"
   ]
  },
  {
   "cell_type": "code",
   "execution_count": 119,
   "id": "e9f13488",
   "metadata": {},
   "outputs": [
    {
     "data": {
      "text/html": [
       "<div>\n",
       "<style scoped>\n",
       "    .dataframe tbody tr th:only-of-type {\n",
       "        vertical-align: middle;\n",
       "    }\n",
       "\n",
       "    .dataframe tbody tr th {\n",
       "        vertical-align: top;\n",
       "    }\n",
       "\n",
       "    .dataframe thead th {\n",
       "        text-align: right;\n",
       "    }\n",
       "</style>\n",
       "<table border=\"1\" class=\"dataframe\">\n",
       "  <thead>\n",
       "    <tr style=\"text-align: right;\">\n",
       "      <th></th>\n",
       "      <th>building_id</th>\n",
       "      <th>damage_grade</th>\n",
       "    </tr>\n",
       "  </thead>\n",
       "  <tbody>\n",
       "    <tr>\n",
       "      <th>0</th>\n",
       "      <td>802906</td>\n",
       "      <td>3</td>\n",
       "    </tr>\n",
       "    <tr>\n",
       "      <th>1</th>\n",
       "      <td>28830</td>\n",
       "      <td>2</td>\n",
       "    </tr>\n",
       "    <tr>\n",
       "      <th>2</th>\n",
       "      <td>94947</td>\n",
       "      <td>3</td>\n",
       "    </tr>\n",
       "    <tr>\n",
       "      <th>3</th>\n",
       "      <td>590882</td>\n",
       "      <td>2</td>\n",
       "    </tr>\n",
       "    <tr>\n",
       "      <th>4</th>\n",
       "      <td>201944</td>\n",
       "      <td>3</td>\n",
       "    </tr>\n",
       "  </tbody>\n",
       "</table>\n",
       "</div>"
      ],
      "text/plain": [
       "   building_id damage_grade\n",
       "0       802906            3\n",
       "1        28830            2\n",
       "2        94947            3\n",
       "3       590882            2\n",
       "4       201944            3"
      ]
     },
     "execution_count": 119,
     "metadata": {},
     "output_type": "execute_result"
    }
   ],
   "source": [
    "train_labels.head()"
   ]
  },
  {
   "cell_type": "markdown",
   "id": "f0a2328a",
   "metadata": {},
   "source": [
    "## Analisis por región geográfica"
   ]
  },
  {
   "cell_type": "markdown",
   "id": "c872c59f",
   "metadata": {},
   "source": [
    "Tenemos 3 grados de daño posibles. Primero analizamos cuantas edificaciones fueron afectadas para cada uno de estos grados de daño sin discriminar por región geográfica."
   ]
  },
  {
   "cell_type": "code",
   "execution_count": null,
   "id": "501a20ec",
   "metadata": {},
   "outputs": [],
   "source": [
    "general_damage = train_labels['damage_grade'].value_counts(sort=False)\n",
    "general_damage.plot(kind='bar', rot=0)"
   ]
  },
  {
   "cell_type": "markdown",
   "id": "9d37d639",
   "metadata": {},
   "source": [
    "En el siguiente gráfico vemos que las edificaciones no estan distribuidas uniformemente en las regiones indicadas en *geo_level_1_id*"
   ]
  },
  {
   "cell_type": "code",
   "execution_count": null,
   "id": "7ca8dfd6",
   "metadata": {},
   "outputs": [],
   "source": [
    "train=train_values.merge(train_labels)\n",
    "train['geo_level_1_id'].value_counts().plot(kind='bar', figsize=(15,6), rot=0, title='Edificaciones dañadas por región')\n",
    "ax=plt.gca()\n",
    "ax.set_ylabel('Cantidad de edificaciones')\n",
    "ax.set_xlabel('Region')"
   ]
  },
  {
   "cell_type": "code",
   "execution_count": null,
   "id": "20b82f3d",
   "metadata": {},
   "outputs": [],
   "source": [
    "train['geo_level_2_id'].value_counts().nlargest(30).plot(kind='bar', figsize=(15,6), rot=0)"
   ]
  },
  {
   "cell_type": "code",
   "execution_count": null,
   "id": "b0b81152",
   "metadata": {},
   "outputs": [],
   "source": [
    "geo_level_1_damage_3=train.loc[train['damage_grade']==3, 'geo_level_1_id'].value_counts().nlargest(10)\n",
    "geo_level_1_damage_3.plot(kind='bar', rot=0, title='Daño de grado 3')\n",
    "ax=plt.gca()\n",
    "ax.set_ylabel('Cantidad de edificaciones')\n",
    "ax.set_xlabel('Region')"
   ]
  },
  {
   "cell_type": "markdown",
   "id": "2fd4e291",
   "metadata": {},
   "source": [
    "Vemos que la región 17 tuvo muchas edificaciones fue recibieron un daño de grado 3."
   ]
  },
  {
   "cell_type": "code",
   "execution_count": null,
   "id": "fc6abe16",
   "metadata": {},
   "outputs": [],
   "source": [
    "train[['geo_level_1_id','damage_grade']].groupby('geo_level_1_id').agg('mean').sort_values(by='damage_grade', ascending=False).plot(kind='bar', figsize=(15,6), rot=0)"
   ]
  },
  {
   "cell_type": "markdown",
   "id": "18a7d9e3",
   "metadata": {},
   "source": [
    "## Analisis por cantidad de pisos \n",
    "Existe una relación entre la cantidad de pisos que tiene un edificio y el daño que recibio?"
   ]
  },
  {
   "cell_type": "code",
   "execution_count": null,
   "id": "215bb536",
   "metadata": {},
   "outputs": [],
   "source": [
    "train_values.columns"
   ]
  },
  {
   "cell_type": "code",
   "execution_count": null,
   "id": "3094d1f8",
   "metadata": {},
   "outputs": [],
   "source": [
    "# train.loc[train['count_floors_pre_eq']]\n",
    "train['count_floors_pre_eq'].value_counts().nlargest(10).plot(kind='bar', rot=0)"
   ]
  },
  {
   "cell_type": "code",
   "execution_count": null,
   "id": "3d671e2d",
   "metadata": {},
   "outputs": [],
   "source": [
    "train[['count_floors_pre_eq', 'damage_grade']].value_counts().to_frame().rename(columns={0:'value_counts'}).pivot_table(index='count_floors_pre_eq', columns='damage_grade', values='value_counts').plot(kind='bar', figsize=(15,6), rot=0)"
   ]
  },
  {
   "cell_type": "code",
   "execution_count": null,
   "id": "48e39fd3",
   "metadata": {},
   "outputs": [],
   "source": []
  }
 ],
 "metadata": {
  "kernelspec": {
   "display_name": "Python 3",
   "language": "python",
   "name": "python3"
  },
  "language_info": {
   "codemirror_mode": {
    "name": "ipython",
    "version": 3
   },
   "file_extension": ".py",
   "mimetype": "text/x-python",
   "name": "python",
   "nbconvert_exporter": "python",
   "pygments_lexer": "ipython3",
   "version": "3.8.5"
  }
 },
 "nbformat": 4,
 "nbformat_minor": 5
}
