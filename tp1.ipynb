{
 "cells": [
  {
   "cell_type": "markdown",
   "id": "9938976c",
   "metadata": {
    "tags": []
   },
   "source": [
    "# Organización de Datos (75.06/95.58)\n",
    "## Primer Cuatrimestre 2021\n",
    "### Trabajo Práctico N°1\n",
    "#### Curso 1: Argerich\n",
    "\n",
    "----\n",
    "\n",
    "##### Introducción:\n",
    "En el año 2015 Nepal fue afectado por el terremoto Gorkha, un sismo que registró una\n",
    "magnitud de 7.8 en la escala Richter y tuvo su epicentro en la ciudad de Kathmandu.\n",
    "Aproximadamente 600,000 estructuras en el centro y pueblos aledaños fueron dañadas o\n",
    "destruidas. Un análisis posterior al sismo llevado por la Comisión Nacional de\n",
    "Planeamiento de Nepal comunicó que la pérdida total económica ocasionada por el\n",
    "terremoto fue de aproximadamente $7 mil millones (USD; NPC, 2015).\n",
    "El dataset para el presente TP está compuesto de encuestas realizadas por Kathmandu\n",
    "Living Labs y el Central Bureau of Statistics y contiene información sobre el impacto del\n",
    "terremoto, estado de viviendas y estadísticas sociodemográficas.\n",
    "Particularmente el dataset se enfoca en cómo eran las condiciones de una determinada vivienda y cuál fue su grado de daño luego del accidente. \n",
    "\n",
    "##### Objetivo:\n",
    "El TP consiste en realizar un análisis exploratorio de los datos provistos con el objetivo de\n",
    "determinar características y variables importantes, descubrir insights interesantes, y\n",
    "analizar la estructura de los mismos."
   ]
  },
  {
   "cell_type": "markdown",
   "id": "71072047",
   "metadata": {},
   "source": [
    "# Analisis exploratorio de los datos\n",
    "#### Empecemos importando los recursos necesarios"
   ]
  },
  {
   "cell_type": "code",
   "execution_count": 1,
   "id": "6e45e6d1",
   "metadata": {},
   "outputs": [],
   "source": [
    "# importacion general de librerias y de visualizacion (matplotlib y seaborn)\n",
    "import pandas as pd\n",
    "import numpy as np\n",
    "import matplotlib.pyplot as plt\n",
    "import seaborn as sns\n",
    "\n",
    "#seteando la paleta de colores\n",
    "cmap = sns.color_palette('YlGnBu', n_colors=200)"
   ]
  },
  {
   "cell_type": "code",
   "execution_count": 2,
   "id": "ef8f3b8e",
   "metadata": {},
   "outputs": [],
   "source": [
    "# lectura de archivos csv\n",
    "train_values=pd.read_csv('train_values.csv',\n",
    "                        dtype={\n",
    "                            'geo_level_1_id':'int8',\n",
    "                            'geo_level_2_id':'int16',\n",
    "                            'geo_level_3_id':'int16',\n",
    "                            'count_floors_pre_eq':'int8',\n",
    "                            'age':'int16',\n",
    "                            'area_percentage':'int8',\n",
    "                            'height_percentage':'int8',\n",
    "                            'land_surface_condition':'category',                 \n",
    "                            'foundation_type':'category',                          \n",
    "                            'roof_type':'category',                                 \n",
    "                            'ground_floor_type':'category',                        \n",
    "                            'other_floor_type':'category',                          \n",
    "                            'position':'category',                                  \n",
    "                            'plan_configuration':'category',\n",
    "                            'has_superstructure_adobe_mud':'bool',               \n",
    "                            'has_superstructure_mud_mortar_stone':'bool',        \n",
    "                            'has_superstructure_stone_flag':'bool',             \n",
    "                            'has_superstructure_cement_mortar_stone':'bool',     \n",
    "                            'has_superstructure_mud_mortar_brick':'bool',        \n",
    "                            'has_superstructure_cement_mortar_brick':'bool',     \n",
    "                            'has_superstructure_timber':'bool',                  \n",
    "                            'has_superstructure_bamboo':'bool',                  \n",
    "                            'has_superstructure_rc_non_engineered':'bool',       \n",
    "                            'has_superstructure_rc_engineered':'bool',          \n",
    "                            'has_superstructure_other':'bool',\n",
    "                            'legal_ownership_status':'category',\n",
    "                            'count_families':'int8',\n",
    "                            'has_secondary_use':'bool',                          \n",
    "                            'has_secondary_use_agriculture':'bool',             \n",
    "                            'has_secondary_use_hotel':'bool',                    \n",
    "                            'has_secondary_use_rental':'bool',                  \n",
    "                            'has_secondary_use_institution':'bool',             \n",
    "                            'has_secondary_use_school':'bool',                \n",
    "                            'has_secondary_use_industry':'bool',              \n",
    "                            'has_secondary_use_health_post':'bool',         \n",
    "                            'has_secondary_use_gov_office':'bool',           \n",
    "                            'has_secondary_use_use_police':'bool',             \n",
    "                            'has_secondary_use_other':'bool'                   \n",
    "                        })\n",
    "train_labels=pd.read_csv('train_labels.csv',\n",
    "                        dtype={\n",
    "                            'building_id':'int64',\n",
    "                            'damage_grade':'int8'\n",
    "                        })"
   ]
  },
  {
   "cell_type": "markdown",
   "id": "a810b8d7",
   "metadata": {},
   "source": [
    "### Limpieza de datos\n",
    "- ¿Hay datos faltantes?\n",
    "    - ¿Son muchos? Caso contrario podriamos simplemente filtrarlos.\n",
    "- ¿Todos los datos estan con el formato correcto?\n",
    "    - ¿Es necesario transformar alguna columna a tipo categórico/numérico/date_time?\n",
    "- ¿Los dataframes son muy grandes?\n",
    "    - ¿Es necesario algun trabajo previo para minimizar el espacio en memoria?\n",
    "- ¿Hay datos que no tengan sentido?\n",
    "    - Cuyos valores sean muy grandes para el contexto\n",
    "    - Que no sean posibles"
   ]
  },
  {
   "cell_type": "markdown",
   "id": "cc90d8ed",
   "metadata": {},
   "source": [
    "#### Reviso valores null en mis dataframes"
   ]
  },
  {
   "cell_type": "code",
   "execution_count": 3,
   "id": "41d71908",
   "metadata": {},
   "outputs": [
    {
     "data": {
      "text/plain": [
       "building_id     False\n",
       "damage_grade    False\n",
       "dtype: bool"
      ]
     },
     "execution_count": 3,
     "metadata": {},
     "output_type": "execute_result"
    }
   ],
   "source": [
    "train_labels.isnull().any()"
   ]
  },
  {
   "cell_type": "code",
   "execution_count": 4,
   "id": "70cfabda",
   "metadata": {},
   "outputs": [
    {
     "data": {
      "text/plain": [
       "building_id                               False\n",
       "geo_level_1_id                            False\n",
       "geo_level_2_id                            False\n",
       "geo_level_3_id                            False\n",
       "count_floors_pre_eq                       False\n",
       "age                                       False\n",
       "area_percentage                           False\n",
       "height_percentage                         False\n",
       "land_surface_condition                    False\n",
       "foundation_type                           False\n",
       "roof_type                                 False\n",
       "ground_floor_type                         False\n",
       "other_floor_type                          False\n",
       "position                                  False\n",
       "plan_configuration                        False\n",
       "has_superstructure_adobe_mud              False\n",
       "has_superstructure_mud_mortar_stone       False\n",
       "has_superstructure_stone_flag             False\n",
       "has_superstructure_cement_mortar_stone    False\n",
       "has_superstructure_mud_mortar_brick       False\n",
       "has_superstructure_cement_mortar_brick    False\n",
       "has_superstructure_timber                 False\n",
       "has_superstructure_bamboo                 False\n",
       "has_superstructure_rc_non_engineered      False\n",
       "has_superstructure_rc_engineered          False\n",
       "has_superstructure_other                  False\n",
       "legal_ownership_status                    False\n",
       "count_families                            False\n",
       "has_secondary_use                         False\n",
       "has_secondary_use_agriculture             False\n",
       "has_secondary_use_hotel                   False\n",
       "has_secondary_use_rental                  False\n",
       "has_secondary_use_institution             False\n",
       "has_secondary_use_school                  False\n",
       "has_secondary_use_industry                False\n",
       "has_secondary_use_health_post             False\n",
       "has_secondary_use_gov_office              False\n",
       "has_secondary_use_use_police              False\n",
       "has_secondary_use_other                   False\n",
       "dtype: bool"
      ]
     },
     "execution_count": 4,
     "metadata": {},
     "output_type": "execute_result"
    }
   ],
   "source": [
    "train_values.isnull().any()"
   ]
  },
  {
   "cell_type": "markdown",
   "id": "7f873390",
   "metadata": {},
   "source": [
    "Podemos ver que, por suerte, **ninguno de los dataframes contienen valores NaN.**  \n",
    "Esto quiere decir que no será necesario ningún tipo de filtro en los datasets a causa de valores faltantes."
   ]
  },
  {
   "cell_type": "markdown",
   "id": "52e4b0a9",
   "metadata": {},
   "source": [
    "#### Chequeando formato de los datos"
   ]
  },
  {
   "cell_type": "code",
   "execution_count": 5,
   "id": "a8ed7ef1",
   "metadata": {},
   "outputs": [
    {
     "data": {
      "text/plain": [
       "building_id     int64\n",
       "damage_grade     int8\n",
       "dtype: object"
      ]
     },
     "execution_count": 5,
     "metadata": {},
     "output_type": "execute_result"
    }
   ],
   "source": [
    "# damage_grade originalmente era int64\n",
    "train_labels.dtypes"
   ]
  },
  {
   "cell_type": "code",
   "execution_count": 6,
   "id": "41cd76df",
   "metadata": {},
   "outputs": [
    {
     "data": {
      "text/plain": [
       "building_id                                  int64\n",
       "geo_level_1_id                                int8\n",
       "geo_level_2_id                               int16\n",
       "geo_level_3_id                               int16\n",
       "count_floors_pre_eq                           int8\n",
       "age                                          int16\n",
       "area_percentage                               int8\n",
       "height_percentage                             int8\n",
       "land_surface_condition                    category\n",
       "foundation_type                           category\n",
       "roof_type                                 category\n",
       "ground_floor_type                         category\n",
       "other_floor_type                          category\n",
       "position                                  category\n",
       "plan_configuration                        category\n",
       "has_superstructure_adobe_mud                  bool\n",
       "has_superstructure_mud_mortar_stone           bool\n",
       "has_superstructure_stone_flag                 bool\n",
       "has_superstructure_cement_mortar_stone        bool\n",
       "has_superstructure_mud_mortar_brick           bool\n",
       "has_superstructure_cement_mortar_brick        bool\n",
       "has_superstructure_timber                     bool\n",
       "has_superstructure_bamboo                     bool\n",
       "has_superstructure_rc_non_engineered          bool\n",
       "has_superstructure_rc_engineered              bool\n",
       "has_superstructure_other                      bool\n",
       "legal_ownership_status                    category\n",
       "count_families                                int8\n",
       "has_secondary_use                             bool\n",
       "has_secondary_use_agriculture                 bool\n",
       "has_secondary_use_hotel                       bool\n",
       "has_secondary_use_rental                      bool\n",
       "has_secondary_use_institution                 bool\n",
       "has_secondary_use_school                      bool\n",
       "has_secondary_use_industry                    bool\n",
       "has_secondary_use_health_post                 bool\n",
       "has_secondary_use_gov_office                  bool\n",
       "has_secondary_use_use_police                  bool\n",
       "has_secondary_use_other                       bool\n",
       "dtype: object"
      ]
     },
     "execution_count": 6,
     "metadata": {},
     "output_type": "execute_result"
    }
   ],
   "source": [
    "# Muchos valores categóricos eran objects y muchos\n",
    "# valores booleanos eran int64, cambiamos sus tipos para optimizar.\n",
    "train_values.dtypes"
   ]
  },
  {
   "cell_type": "markdown",
   "id": "af38d4ea",
   "metadata": {},
   "source": [
    "#### Manejo de memoria del dataset"
   ]
  },
  {
   "cell_type": "code",
   "execution_count": 7,
   "id": "f8116358",
   "metadata": {},
   "outputs": [
    {
     "data": {
      "text/plain": [
       "2.2368783950805664"
      ]
     },
     "execution_count": 7,
     "metadata": {},
     "output_type": "execute_result"
    }
   ],
   "source": [
    "# El valor inicialmente (sin castear las columnas al leer el csv)\n",
    "# era de 3.97 Mb. Ahora se ve que decreció.\n",
    "(train_labels.memory_usage()/(2**20)).sum()"
   ]
  },
  {
   "cell_type": "code",
   "execution_count": 8,
   "id": "e7a16d89",
   "metadata": {},
   "outputs": [
    {
     "data": {
      "text/plain": [
       "12.179516792297363"
      ]
     },
     "execution_count": 8,
     "metadata": {},
     "output_type": "execute_result"
    }
   ],
   "source": [
    "# El valor inicialmente era de 77.54 Mb\n",
    "# podemos observar que ahora la memoria se usa de forma\n",
    "# mucho mas óptima.\n",
    "(train_values.memory_usage()/(2**20)).sum()"
   ]
  },
  {
   "cell_type": "markdown",
   "id": "5c99c1ba",
   "metadata": {},
   "source": [
    "#### Buscando datos fuera de lo común  \n",
    "Buscamos si hay valores que no tengan sentido."
   ]
  },
  {
   "cell_type": "markdown",
   "id": "ae15d85d",
   "metadata": {},
   "source": [
    "##### ¿Hay algun building_id en un dataset que **no** esté en el otro?\n",
    "Los comparamos y chequeamos si hay algun false, los sumamos."
   ]
  },
  {
   "cell_type": "code",
   "execution_count": 9,
   "id": "b0abb621",
   "metadata": {},
   "outputs": [
    {
     "data": {
      "text/plain": [
       "0"
      ]
     },
     "execution_count": 9,
     "metadata": {},
     "output_type": "execute_result"
    }
   ],
   "source": [
    "(train_values['building_id'] != train_labels['building_id']).sum()\n",
    "#Observamos que hay correspondencia 1 a 1 entre ambos datasets\n",
    "#Eso significa que se puede hacer un merge (lo haremos mas adelante)"
   ]
  },
  {
   "cell_type": "markdown",
   "id": "11651ddc",
   "metadata": {},
   "source": [
    "##### ¿Las variables geo_level_id tiene los valores que dice el enunciado?"
   ]
  },
  {
   "cell_type": "code",
   "execution_count": 10,
   "id": "cdd83483",
   "metadata": {},
   "outputs": [
    {
     "data": {
      "text/plain": [
       "geo_level_1_id       30\n",
       "geo_level_2_id     1427\n",
       "geo_level_3_id    12567\n",
       "dtype: int16"
      ]
     },
     "execution_count": 10,
     "metadata": {},
     "output_type": "execute_result"
    }
   ],
   "source": [
    "#Vemos que se corresponde con el enunciado.\n",
    "train_values[['geo_level_1_id','geo_level_2_id','geo_level_3_id']].max()"
   ]
  },
  {
   "cell_type": "code",
   "execution_count": 11,
   "id": "16a41a31",
   "metadata": {},
   "outputs": [
    {
     "data": {
      "text/plain": [
       "geo_level_1_id    0\n",
       "geo_level_2_id    0\n",
       "geo_level_3_id    0\n",
       "dtype: int16"
      ]
     },
     "execution_count": 11,
     "metadata": {},
     "output_type": "execute_result"
    }
   ],
   "source": [
    "#Se corresponde con el enunciado.\n",
    "train_values[['geo_level_1_id','geo_level_2_id','geo_level_3_id']].min()"
   ]
  },
  {
   "cell_type": "markdown",
   "id": "447c3a23",
   "metadata": {},
   "source": [
    "##### ¿Hay algun valor de cantidad de familias por hogar que nos llame la atención?"
   ]
  },
  {
   "cell_type": "code",
   "execution_count": 12,
   "id": "8cfede12",
   "metadata": {},
   "outputs": [
    {
     "data": {
      "text/plain": [
       "1    226115\n",
       "0     20862\n",
       "2     11294\n",
       "3      1802\n",
       "4       389\n",
       "5       104\n",
       "6        22\n",
       "7         7\n",
       "9         4\n",
       "8         2\n",
       "Name: count_families, dtype: int64"
      ]
     },
     "execution_count": 12,
     "metadata": {},
     "output_type": "execute_result"
    }
   ],
   "source": [
    "#No nos llama la atencion que existan algunas casas con\n",
    "#mas de 7 familias, no consideramos que sean errores del\n",
    "#dataset.\n",
    "#Tambien observamos que hay 20 mil edificaciones sin \n",
    "#familias, esto puede ser tranquilamente por ser edificaciones\n",
    "#destinadas a otras actividades.\n",
    "train_values['count_families'].value_counts()"
   ]
  },
  {
   "cell_type": "markdown",
   "id": "0d44d2b3",
   "metadata": {},
   "source": [
    "##### ¿Hay valores raros en la cantidad de pisos por edificio?"
   ]
  },
  {
   "cell_type": "code",
   "execution_count": 13,
   "id": "f3bcbdb9",
   "metadata": {},
   "outputs": [
    {
     "data": {
      "text/plain": [
       "2    156623\n",
       "3     55617\n",
       "1     40441\n",
       "4      5424\n",
       "5      2246\n",
       "6       209\n",
       "7        39\n",
       "8         1\n",
       "9         1\n",
       "Name: count_floors_pre_eq, dtype: int64"
      ]
     },
     "execution_count": 13,
     "metadata": {},
     "output_type": "execute_result"
    }
   ],
   "source": [
    "#No vemos que sea inverosimil que un solo edificio \n",
    "#tenga 9 u 8 pisos \n",
    "train_values['count_floors_pre_eq'].value_counts()"
   ]
  },
  {
   "cell_type": "markdown",
   "id": "0a7cdc89",
   "metadata": {},
   "source": [
    "##### ¿Area_percentage y Height_percentage estan dentro de los valores [0,100]?\n",
    "Como se observa a continuacion, sí."
   ]
  },
  {
   "cell_type": "code",
   "execution_count": 14,
   "id": "e9e67fc8",
   "metadata": {},
   "outputs": [
    {
     "data": {
      "text/plain": [
       "area_percentage      100\n",
       "height_percentage     32\n",
       "dtype: int8"
      ]
     },
     "execution_count": 14,
     "metadata": {},
     "output_type": "execute_result"
    }
   ],
   "source": [
    "train_values[['area_percentage','height_percentage']].max()"
   ]
  },
  {
   "cell_type": "code",
   "execution_count": 15,
   "id": "fa089a1d",
   "metadata": {},
   "outputs": [
    {
     "data": {
      "text/plain": [
       "area_percentage      1\n",
       "height_percentage    2\n",
       "dtype: int8"
      ]
     },
     "execution_count": 15,
     "metadata": {},
     "output_type": "execute_result"
    }
   ],
   "source": [
    "train_values[['area_percentage','height_percentage']].min()"
   ]
  },
  {
   "cell_type": "markdown",
   "id": "3d4293f9",
   "metadata": {},
   "source": [
    "##### ¿Hay valores fuera de lo normal para la edad de las edificaciones?"
   ]
  },
  {
   "cell_type": "code",
   "execution_count": 16,
   "id": "2bc3e5ae",
   "metadata": {},
   "outputs": [
    {
     "data": {
      "text/plain": [
       "10     38896\n",
       "15     36010\n",
       "5      33697\n",
       "20     32182\n",
       "0      26041\n",
       "25     24366\n",
       "30     18028\n",
       "35     10710\n",
       "40     10559\n",
       "50      7257\n",
       "45      4711\n",
       "60      3612\n",
       "80      3055\n",
       "55      2033\n",
       "70      1975\n",
       "995     1390\n",
       "100     1364\n",
       "65      1123\n",
       "90      1085\n",
       "85       847\n",
       "75       512\n",
       "95       414\n",
       "120      180\n",
       "150      142\n",
       "200      106\n",
       "110      100\n",
       "105       89\n",
       "125       37\n",
       "115       21\n",
       "130        9\n",
       "140        9\n",
       "180        7\n",
       "170        6\n",
       "160        6\n",
       "175        5\n",
       "135        5\n",
       "190        3\n",
       "145        3\n",
       "195        2\n",
       "165        2\n",
       "185        1\n",
       "155        1\n",
       "Name: age, dtype: int64"
      ]
     },
     "execution_count": 16,
     "metadata": {},
     "output_type": "execute_result"
    }
   ],
   "source": [
    "train_values['age'].value_counts()"
   ]
  },
  {
   "cell_type": "markdown",
   "id": "5a01f1e5",
   "metadata": {},
   "source": [
    "Si bien podemos observar que hay muchos edificios con antigüedades entre 0 y 200 años (lo cual\n",
    "consideramos normal) podemos ver que **hay 1390 con antigüedades** de 995 años.  \n",
    "Lo que nos llama la atención de esto es la brecha entre el valor 200 y 995.\n",
    "- ¿Por qué no hay valores intermedios? \n",
    "- ¿Es posible que una edificación sea tan vieja?  \n",
    "\n",
    "La forma en la que decidimos interpretar estos datos es que no se tiene una fecha concreta de la construccion de estas viviendas, pero que al ser tan antiguas (mas de 200 años) se decidió ingresarlas con edades de 995 años (por eso tantas tienen exactamente esa edad).  \n",
    "Para el resto de nuestro análisis consideraremos a esas viviendas como simplemente *viviendas muy viejas*"
   ]
  },
  {
   "cell_type": "code",
   "execution_count": 17,
   "id": "5aa3eb79",
   "metadata": {},
   "outputs": [
    {
     "data": {
      "text/html": [
       "<div>\n",
       "<style scoped>\n",
       "    .dataframe tbody tr th:only-of-type {\n",
       "        vertical-align: middle;\n",
       "    }\n",
       "\n",
       "    .dataframe tbody tr th {\n",
       "        vertical-align: top;\n",
       "    }\n",
       "\n",
       "    .dataframe thead th {\n",
       "        text-align: right;\n",
       "    }\n",
       "</style>\n",
       "<table border=\"1\" class=\"dataframe\">\n",
       "  <thead>\n",
       "    <tr style=\"text-align: right;\">\n",
       "      <th></th>\n",
       "      <th>building_id</th>\n",
       "      <th>geo_level_1_id</th>\n",
       "      <th>geo_level_2_id</th>\n",
       "      <th>geo_level_3_id</th>\n",
       "      <th>count_floors_pre_eq</th>\n",
       "      <th>age</th>\n",
       "      <th>area_percentage</th>\n",
       "      <th>height_percentage</th>\n",
       "      <th>land_surface_condition</th>\n",
       "      <th>foundation_type</th>\n",
       "      <th>...</th>\n",
       "      <th>has_secondary_use_agriculture</th>\n",
       "      <th>has_secondary_use_hotel</th>\n",
       "      <th>has_secondary_use_rental</th>\n",
       "      <th>has_secondary_use_institution</th>\n",
       "      <th>has_secondary_use_school</th>\n",
       "      <th>has_secondary_use_industry</th>\n",
       "      <th>has_secondary_use_health_post</th>\n",
       "      <th>has_secondary_use_gov_office</th>\n",
       "      <th>has_secondary_use_use_police</th>\n",
       "      <th>has_secondary_use_other</th>\n",
       "    </tr>\n",
       "  </thead>\n",
       "  <tbody>\n",
       "    <tr>\n",
       "      <th>0</th>\n",
       "      <td>802906</td>\n",
       "      <td>6</td>\n",
       "      <td>487</td>\n",
       "      <td>12198</td>\n",
       "      <td>2</td>\n",
       "      <td>30</td>\n",
       "      <td>6</td>\n",
       "      <td>5</td>\n",
       "      <td>t</td>\n",
       "      <td>r</td>\n",
       "      <td>...</td>\n",
       "      <td>False</td>\n",
       "      <td>False</td>\n",
       "      <td>False</td>\n",
       "      <td>False</td>\n",
       "      <td>False</td>\n",
       "      <td>False</td>\n",
       "      <td>False</td>\n",
       "      <td>False</td>\n",
       "      <td>False</td>\n",
       "      <td>False</td>\n",
       "    </tr>\n",
       "    <tr>\n",
       "      <th>1</th>\n",
       "      <td>28830</td>\n",
       "      <td>8</td>\n",
       "      <td>900</td>\n",
       "      <td>2812</td>\n",
       "      <td>2</td>\n",
       "      <td>10</td>\n",
       "      <td>8</td>\n",
       "      <td>7</td>\n",
       "      <td>o</td>\n",
       "      <td>r</td>\n",
       "      <td>...</td>\n",
       "      <td>False</td>\n",
       "      <td>False</td>\n",
       "      <td>False</td>\n",
       "      <td>False</td>\n",
       "      <td>False</td>\n",
       "      <td>False</td>\n",
       "      <td>False</td>\n",
       "      <td>False</td>\n",
       "      <td>False</td>\n",
       "      <td>False</td>\n",
       "    </tr>\n",
       "    <tr>\n",
       "      <th>2</th>\n",
       "      <td>94947</td>\n",
       "      <td>21</td>\n",
       "      <td>363</td>\n",
       "      <td>8973</td>\n",
       "      <td>2</td>\n",
       "      <td>10</td>\n",
       "      <td>5</td>\n",
       "      <td>5</td>\n",
       "      <td>t</td>\n",
       "      <td>r</td>\n",
       "      <td>...</td>\n",
       "      <td>False</td>\n",
       "      <td>False</td>\n",
       "      <td>False</td>\n",
       "      <td>False</td>\n",
       "      <td>False</td>\n",
       "      <td>False</td>\n",
       "      <td>False</td>\n",
       "      <td>False</td>\n",
       "      <td>False</td>\n",
       "      <td>False</td>\n",
       "    </tr>\n",
       "    <tr>\n",
       "      <th>3</th>\n",
       "      <td>590882</td>\n",
       "      <td>22</td>\n",
       "      <td>418</td>\n",
       "      <td>10694</td>\n",
       "      <td>2</td>\n",
       "      <td>10</td>\n",
       "      <td>6</td>\n",
       "      <td>5</td>\n",
       "      <td>t</td>\n",
       "      <td>r</td>\n",
       "      <td>...</td>\n",
       "      <td>False</td>\n",
       "      <td>False</td>\n",
       "      <td>False</td>\n",
       "      <td>False</td>\n",
       "      <td>False</td>\n",
       "      <td>False</td>\n",
       "      <td>False</td>\n",
       "      <td>False</td>\n",
       "      <td>False</td>\n",
       "      <td>False</td>\n",
       "    </tr>\n",
       "    <tr>\n",
       "      <th>4</th>\n",
       "      <td>201944</td>\n",
       "      <td>11</td>\n",
       "      <td>131</td>\n",
       "      <td>1488</td>\n",
       "      <td>3</td>\n",
       "      <td>30</td>\n",
       "      <td>8</td>\n",
       "      <td>9</td>\n",
       "      <td>t</td>\n",
       "      <td>r</td>\n",
       "      <td>...</td>\n",
       "      <td>False</td>\n",
       "      <td>False</td>\n",
       "      <td>False</td>\n",
       "      <td>False</td>\n",
       "      <td>False</td>\n",
       "      <td>False</td>\n",
       "      <td>False</td>\n",
       "      <td>False</td>\n",
       "      <td>False</td>\n",
       "      <td>False</td>\n",
       "    </tr>\n",
       "  </tbody>\n",
       "</table>\n",
       "<p>5 rows × 39 columns</p>\n",
       "</div>"
      ],
      "text/plain": [
       "   building_id  geo_level_1_id  geo_level_2_id  geo_level_3_id  \\\n",
       "0       802906               6             487           12198   \n",
       "1        28830               8             900            2812   \n",
       "2        94947              21             363            8973   \n",
       "3       590882              22             418           10694   \n",
       "4       201944              11             131            1488   \n",
       "\n",
       "   count_floors_pre_eq  age  area_percentage  height_percentage  \\\n",
       "0                    2   30                6                  5   \n",
       "1                    2   10                8                  7   \n",
       "2                    2   10                5                  5   \n",
       "3                    2   10                6                  5   \n",
       "4                    3   30                8                  9   \n",
       "\n",
       "  land_surface_condition foundation_type  ... has_secondary_use_agriculture  \\\n",
       "0                      t               r  ...                         False   \n",
       "1                      o               r  ...                         False   \n",
       "2                      t               r  ...                         False   \n",
       "3                      t               r  ...                         False   \n",
       "4                      t               r  ...                         False   \n",
       "\n",
       "  has_secondary_use_hotel has_secondary_use_rental  \\\n",
       "0                   False                    False   \n",
       "1                   False                    False   \n",
       "2                   False                    False   \n",
       "3                   False                    False   \n",
       "4                   False                    False   \n",
       "\n",
       "  has_secondary_use_institution has_secondary_use_school  \\\n",
       "0                         False                    False   \n",
       "1                         False                    False   \n",
       "2                         False                    False   \n",
       "3                         False                    False   \n",
       "4                         False                    False   \n",
       "\n",
       "   has_secondary_use_industry  has_secondary_use_health_post  \\\n",
       "0                       False                          False   \n",
       "1                       False                          False   \n",
       "2                       False                          False   \n",
       "3                       False                          False   \n",
       "4                       False                          False   \n",
       "\n",
       "   has_secondary_use_gov_office  has_secondary_use_use_police  \\\n",
       "0                         False                         False   \n",
       "1                         False                         False   \n",
       "2                         False                         False   \n",
       "3                         False                         False   \n",
       "4                         False                         False   \n",
       "\n",
       "   has_secondary_use_other  \n",
       "0                    False  \n",
       "1                    False  \n",
       "2                    False  \n",
       "3                    False  \n",
       "4                    False  \n",
       "\n",
       "[5 rows x 39 columns]"
      ]
     },
     "execution_count": 17,
     "metadata": {},
     "output_type": "execute_result"
    }
   ],
   "source": [
    "train_values.head()"
   ]
  },
  {
   "cell_type": "code",
   "execution_count": 18,
   "id": "9b6f6ce9",
   "metadata": {},
   "outputs": [
    {
     "data": {
      "text/html": [
       "<div>\n",
       "<style scoped>\n",
       "    .dataframe tbody tr th:only-of-type {\n",
       "        vertical-align: middle;\n",
       "    }\n",
       "\n",
       "    .dataframe tbody tr th {\n",
       "        vertical-align: top;\n",
       "    }\n",
       "\n",
       "    .dataframe thead th {\n",
       "        text-align: right;\n",
       "    }\n",
       "</style>\n",
       "<table border=\"1\" class=\"dataframe\">\n",
       "  <thead>\n",
       "    <tr style=\"text-align: right;\">\n",
       "      <th></th>\n",
       "      <th>building_id</th>\n",
       "      <th>damage_grade</th>\n",
       "    </tr>\n",
       "  </thead>\n",
       "  <tbody>\n",
       "    <tr>\n",
       "      <th>0</th>\n",
       "      <td>802906</td>\n",
       "      <td>3</td>\n",
       "    </tr>\n",
       "    <tr>\n",
       "      <th>1</th>\n",
       "      <td>28830</td>\n",
       "      <td>2</td>\n",
       "    </tr>\n",
       "    <tr>\n",
       "      <th>2</th>\n",
       "      <td>94947</td>\n",
       "      <td>3</td>\n",
       "    </tr>\n",
       "    <tr>\n",
       "      <th>3</th>\n",
       "      <td>590882</td>\n",
       "      <td>2</td>\n",
       "    </tr>\n",
       "    <tr>\n",
       "      <th>4</th>\n",
       "      <td>201944</td>\n",
       "      <td>3</td>\n",
       "    </tr>\n",
       "  </tbody>\n",
       "</table>\n",
       "</div>"
      ],
      "text/plain": [
       "   building_id  damage_grade\n",
       "0       802906             3\n",
       "1        28830             2\n",
       "2        94947             3\n",
       "3       590882             2\n",
       "4       201944             3"
      ]
     },
     "execution_count": 18,
     "metadata": {},
     "output_type": "execute_result"
    }
   ],
   "source": [
    "train_labels.head()"
   ]
  },
  {
   "cell_type": "markdown",
   "id": "45cfa012",
   "metadata": {},
   "source": [
    "#### Mergeamos los dos dataframes ya que tiene una correspondecia 1 a 1"
   ]
  },
  {
   "cell_type": "code",
   "execution_count": 43,
   "id": "b75f3028",
   "metadata": {},
   "outputs": [
    {
     "data": {
      "text/html": [
       "<div>\n",
       "<style scoped>\n",
       "    .dataframe tbody tr th:only-of-type {\n",
       "        vertical-align: middle;\n",
       "    }\n",
       "\n",
       "    .dataframe tbody tr th {\n",
       "        vertical-align: top;\n",
       "    }\n",
       "\n",
       "    .dataframe thead th {\n",
       "        text-align: right;\n",
       "    }\n",
       "</style>\n",
       "<table border=\"1\" class=\"dataframe\">\n",
       "  <thead>\n",
       "    <tr style=\"text-align: right;\">\n",
       "      <th></th>\n",
       "      <th>building_id</th>\n",
       "      <th>geo_level_1_id</th>\n",
       "      <th>geo_level_2_id</th>\n",
       "      <th>geo_level_3_id</th>\n",
       "      <th>count_floors_pre_eq</th>\n",
       "      <th>age</th>\n",
       "      <th>area_percentage</th>\n",
       "      <th>height_percentage</th>\n",
       "      <th>land_surface_condition</th>\n",
       "      <th>foundation_type</th>\n",
       "      <th>...</th>\n",
       "      <th>has_secondary_use_hotel</th>\n",
       "      <th>has_secondary_use_rental</th>\n",
       "      <th>has_secondary_use_institution</th>\n",
       "      <th>has_secondary_use_school</th>\n",
       "      <th>has_secondary_use_industry</th>\n",
       "      <th>has_secondary_use_health_post</th>\n",
       "      <th>has_secondary_use_gov_office</th>\n",
       "      <th>has_secondary_use_use_police</th>\n",
       "      <th>has_secondary_use_other</th>\n",
       "      <th>damage_grade</th>\n",
       "    </tr>\n",
       "  </thead>\n",
       "  <tbody>\n",
       "    <tr>\n",
       "      <th>0</th>\n",
       "      <td>802906</td>\n",
       "      <td>6</td>\n",
       "      <td>487</td>\n",
       "      <td>12198</td>\n",
       "      <td>2</td>\n",
       "      <td>30</td>\n",
       "      <td>6</td>\n",
       "      <td>5</td>\n",
       "      <td>t</td>\n",
       "      <td>r</td>\n",
       "      <td>...</td>\n",
       "      <td>False</td>\n",
       "      <td>False</td>\n",
       "      <td>False</td>\n",
       "      <td>False</td>\n",
       "      <td>False</td>\n",
       "      <td>False</td>\n",
       "      <td>False</td>\n",
       "      <td>False</td>\n",
       "      <td>False</td>\n",
       "      <td>3</td>\n",
       "    </tr>\n",
       "    <tr>\n",
       "      <th>1</th>\n",
       "      <td>28830</td>\n",
       "      <td>8</td>\n",
       "      <td>900</td>\n",
       "      <td>2812</td>\n",
       "      <td>2</td>\n",
       "      <td>10</td>\n",
       "      <td>8</td>\n",
       "      <td>7</td>\n",
       "      <td>o</td>\n",
       "      <td>r</td>\n",
       "      <td>...</td>\n",
       "      <td>False</td>\n",
       "      <td>False</td>\n",
       "      <td>False</td>\n",
       "      <td>False</td>\n",
       "      <td>False</td>\n",
       "      <td>False</td>\n",
       "      <td>False</td>\n",
       "      <td>False</td>\n",
       "      <td>False</td>\n",
       "      <td>2</td>\n",
       "    </tr>\n",
       "    <tr>\n",
       "      <th>2</th>\n",
       "      <td>94947</td>\n",
       "      <td>21</td>\n",
       "      <td>363</td>\n",
       "      <td>8973</td>\n",
       "      <td>2</td>\n",
       "      <td>10</td>\n",
       "      <td>5</td>\n",
       "      <td>5</td>\n",
       "      <td>t</td>\n",
       "      <td>r</td>\n",
       "      <td>...</td>\n",
       "      <td>False</td>\n",
       "      <td>False</td>\n",
       "      <td>False</td>\n",
       "      <td>False</td>\n",
       "      <td>False</td>\n",
       "      <td>False</td>\n",
       "      <td>False</td>\n",
       "      <td>False</td>\n",
       "      <td>False</td>\n",
       "      <td>3</td>\n",
       "    </tr>\n",
       "    <tr>\n",
       "      <th>3</th>\n",
       "      <td>590882</td>\n",
       "      <td>22</td>\n",
       "      <td>418</td>\n",
       "      <td>10694</td>\n",
       "      <td>2</td>\n",
       "      <td>10</td>\n",
       "      <td>6</td>\n",
       "      <td>5</td>\n",
       "      <td>t</td>\n",
       "      <td>r</td>\n",
       "      <td>...</td>\n",
       "      <td>False</td>\n",
       "      <td>False</td>\n",
       "      <td>False</td>\n",
       "      <td>False</td>\n",
       "      <td>False</td>\n",
       "      <td>False</td>\n",
       "      <td>False</td>\n",
       "      <td>False</td>\n",
       "      <td>False</td>\n",
       "      <td>2</td>\n",
       "    </tr>\n",
       "    <tr>\n",
       "      <th>4</th>\n",
       "      <td>201944</td>\n",
       "      <td>11</td>\n",
       "      <td>131</td>\n",
       "      <td>1488</td>\n",
       "      <td>3</td>\n",
       "      <td>30</td>\n",
       "      <td>8</td>\n",
       "      <td>9</td>\n",
       "      <td>t</td>\n",
       "      <td>r</td>\n",
       "      <td>...</td>\n",
       "      <td>False</td>\n",
       "      <td>False</td>\n",
       "      <td>False</td>\n",
       "      <td>False</td>\n",
       "      <td>False</td>\n",
       "      <td>False</td>\n",
       "      <td>False</td>\n",
       "      <td>False</td>\n",
       "      <td>False</td>\n",
       "      <td>3</td>\n",
       "    </tr>\n",
       "  </tbody>\n",
       "</table>\n",
       "<p>5 rows × 40 columns</p>\n",
       "</div>"
      ],
      "text/plain": [
       "   building_id  geo_level_1_id  geo_level_2_id  geo_level_3_id  \\\n",
       "0       802906               6             487           12198   \n",
       "1        28830               8             900            2812   \n",
       "2        94947              21             363            8973   \n",
       "3       590882              22             418           10694   \n",
       "4       201944              11             131            1488   \n",
       "\n",
       "   count_floors_pre_eq  age  area_percentage  height_percentage  \\\n",
       "0                    2   30                6                  5   \n",
       "1                    2   10                8                  7   \n",
       "2                    2   10                5                  5   \n",
       "3                    2   10                6                  5   \n",
       "4                    3   30                8                  9   \n",
       "\n",
       "  land_surface_condition foundation_type  ... has_secondary_use_hotel  \\\n",
       "0                      t               r  ...                   False   \n",
       "1                      o               r  ...                   False   \n",
       "2                      t               r  ...                   False   \n",
       "3                      t               r  ...                   False   \n",
       "4                      t               r  ...                   False   \n",
       "\n",
       "  has_secondary_use_rental has_secondary_use_institution  \\\n",
       "0                    False                         False   \n",
       "1                    False                         False   \n",
       "2                    False                         False   \n",
       "3                    False                         False   \n",
       "4                    False                         False   \n",
       "\n",
       "  has_secondary_use_school has_secondary_use_industry  \\\n",
       "0                    False                      False   \n",
       "1                    False                      False   \n",
       "2                    False                      False   \n",
       "3                    False                      False   \n",
       "4                    False                      False   \n",
       "\n",
       "   has_secondary_use_health_post  has_secondary_use_gov_office  \\\n",
       "0                          False                         False   \n",
       "1                          False                         False   \n",
       "2                          False                         False   \n",
       "3                          False                         False   \n",
       "4                          False                         False   \n",
       "\n",
       "   has_secondary_use_use_police  has_secondary_use_other  damage_grade  \n",
       "0                         False                    False             3  \n",
       "1                         False                    False             2  \n",
       "2                         False                    False             3  \n",
       "3                         False                    False             2  \n",
       "4                         False                    False             3  \n",
       "\n",
       "[5 rows x 40 columns]"
      ]
     },
     "execution_count": 43,
     "metadata": {},
     "output_type": "execute_result"
    }
   ],
   "source": [
    "df=train_values.merge(train_labels)\n",
    "df.head()"
   ]
  },
  {
   "cell_type": "markdown",
   "id": "d88535c8",
   "metadata": {},
   "source": [
    "## Analisis por región geográfica"
   ]
  },
  {
   "cell_type": "markdown",
   "id": "d9af32a4",
   "metadata": {},
   "source": [
    "Tenemos 3 grados de daño posibles. Primero analizamos cuantas edificaciones fueron afectadas para cada uno de estos grados de daño sin discriminar por región geográfica."
   ]
  },
  {
   "cell_type": "code",
   "execution_count": 20,
   "id": "b717e5fe",
   "metadata": {},
   "outputs": [
    {
     "data": {
      "image/png": "[encoded data removed]",
      "text/plain": [
       "<Figure size 432x288 with 1 Axes>"
      ]
     },
     "metadata": {
      "needs_background": "light"
     },
     "output_type": "display_data"
    }
   ],
   "source": [
    "general_damage = df['damage_grade'].value_counts(sort=False)\n",
    "general_damage.plot(kind='bar', rot=0)\n",
    "plt.show()"
   ]
  },
  {
   "cell_type": "markdown",
   "id": "68b509b5",
   "metadata": {},
   "source": [
    "Podemos ver en el grafico anterior que la gran mayoría de edificios tienen daño medio.\n",
    "Queremos ver que fue lo que ocasionó ese nivel de daño, asi que vamos a empezar a discriminar por distribucion geográfica y analizar las variables de cada dato.\n",
    "\n",
    "\n",
    "En el siguiente gráfico vemos que las edificaciones no estan distribuidas uniformemente en las regiones indicadas en *geo_level_1_id*"
   ]
  },
  {
   "cell_type": "code",
   "execution_count": 21,
   "id": "c5bcf14c",
   "metadata": {},
   "outputs": [
    {
     "data": {
      "image/png": "[encoded data removed]",
      "text/plain": [
       "<Figure size 1080x432 with 1 Axes>"
      ]
     },
     "metadata": {
      "needs_background": "light"
     },
     "output_type": "display_data"
    }
   ],
   "source": [
    "df['geo_level_1_id'].value_counts().plot(kind='bar', figsize=(15,6), rot=0, title='Edificaciones dañadas por región')\n",
    "ax=plt.gca()\n",
    "ax.set_ylabel('Cantidad de edificaciones')\n",
    "ax.set_xlabel('Region')\n",
    "plt.show()"
   ]
  },
  {
   "cell_type": "markdown",
   "id": "a6bbee75",
   "metadata": {},
   "source": [
    "De aca se puede ver que la zona que mas aparece en el dataset es la zona 6.  \n",
    "Pero esto no nos dice el grado de daño de la zona 6. Es decir, podria haber muchos edificios en la zona\n",
    "6 con daño de tipo 1 (poco daño)  \n",
    "Discriminemos por **grado de daño.**"
   ]
  },
  {
   "cell_type": "code",
   "execution_count": 63,
   "id": "c4e3ecf5",
   "metadata": {},
   "outputs": [
    {
     "data": {
      "text/html": [
       "<div>\n",
       "<style scoped>\n",
       "    .dataframe tbody tr th:only-of-type {\n",
       "        vertical-align: middle;\n",
       "    }\n",
       "\n",
       "    .dataframe tbody tr th {\n",
       "        vertical-align: top;\n",
       "    }\n",
       "\n",
       "    .dataframe thead th {\n",
       "        text-align: right;\n",
       "    }\n",
       "</style>\n",
       "<table border=\"1\" class=\"dataframe\">\n",
       "  <thead>\n",
       "    <tr style=\"text-align: right;\">\n",
       "      <th>damage_grade</th>\n",
       "      <th>1</th>\n",
       "      <th>2</th>\n",
       "      <th>3</th>\n",
       "    </tr>\n",
       "    <tr>\n",
       "      <th>geo_level_1_id</th>\n",
       "      <th></th>\n",
       "      <th></th>\n",
       "      <th></th>\n",
       "    </tr>\n",
       "  </thead>\n",
       "  <tbody>\n",
       "    <tr>\n",
       "      <th>0</th>\n",
       "      <td>337.0</td>\n",
       "      <td>3075.0</td>\n",
       "      <td>599.0</td>\n",
       "    </tr>\n",
       "    <tr>\n",
       "      <th>1</th>\n",
       "      <td>411.0</td>\n",
       "      <td>1985.0</td>\n",
       "      <td>305.0</td>\n",
       "    </tr>\n",
       "    <tr>\n",
       "      <th>2</th>\n",
       "      <td>85.0</td>\n",
       "      <td>610.0</td>\n",
       "      <td>236.0</td>\n",
       "    </tr>\n",
       "    <tr>\n",
       "      <th>3</th>\n",
       "      <td>245.0</td>\n",
       "      <td>4550.0</td>\n",
       "      <td>2745.0</td>\n",
       "    </tr>\n",
       "    <tr>\n",
       "      <th>4</th>\n",
       "      <td>521.0</td>\n",
       "      <td>11164.0</td>\n",
       "      <td>2883.0</td>\n",
       "    </tr>\n",
       "    <tr>\n",
       "      <th>5</th>\n",
       "      <td>446.0</td>\n",
       "      <td>2014.0</td>\n",
       "      <td>230.0</td>\n",
       "    </tr>\n",
       "    <tr>\n",
       "      <th>6</th>\n",
       "      <td>2108.0</td>\n",
       "      <td>16222.0</td>\n",
       "      <td>6051.0</td>\n",
       "    </tr>\n",
       "    <tr>\n",
       "      <th>7</th>\n",
       "      <td>1033.0</td>\n",
       "      <td>11273.0</td>\n",
       "      <td>6688.0</td>\n",
       "    </tr>\n",
       "    <tr>\n",
       "      <th>8</th>\n",
       "      <td>654.0</td>\n",
       "      <td>8513.0</td>\n",
       "      <td>9913.0</td>\n",
       "    </tr>\n",
       "    <tr>\n",
       "      <th>9</th>\n",
       "      <td>561.0</td>\n",
       "      <td>2733.0</td>\n",
       "      <td>664.0</td>\n",
       "    </tr>\n",
       "    <tr>\n",
       "      <th>10</th>\n",
       "      <td>1211.0</td>\n",
       "      <td>12107.0</td>\n",
       "      <td>8761.0</td>\n",
       "    </tr>\n",
       "    <tr>\n",
       "      <th>11</th>\n",
       "      <td>386.0</td>\n",
       "      <td>4672.0</td>\n",
       "      <td>3162.0</td>\n",
       "    </tr>\n",
       "    <tr>\n",
       "      <th>12</th>\n",
       "      <td>199.0</td>\n",
       "      <td>2310.0</td>\n",
       "      <td>685.0</td>\n",
       "    </tr>\n",
       "    <tr>\n",
       "      <th>13</th>\n",
       "      <td>1966.0</td>\n",
       "      <td>6275.0</td>\n",
       "      <td>1367.0</td>\n",
       "    </tr>\n",
       "    <tr>\n",
       "      <th>14</th>\n",
       "      <td>191.0</td>\n",
       "      <td>1247.0</td>\n",
       "      <td>276.0</td>\n",
       "    </tr>\n",
       "    <tr>\n",
       "      <th>15</th>\n",
       "      <td>163.0</td>\n",
       "      <td>1673.0</td>\n",
       "      <td>484.0</td>\n",
       "    </tr>\n",
       "    <tr>\n",
       "      <th>16</th>\n",
       "      <td>200.0</td>\n",
       "      <td>3188.0</td>\n",
       "      <td>944.0</td>\n",
       "    </tr>\n",
       "    <tr>\n",
       "      <th>17</th>\n",
       "      <td>285.0</td>\n",
       "      <td>3913.0</td>\n",
       "      <td>17615.0</td>\n",
       "    </tr>\n",
       "    <tr>\n",
       "      <th>18</th>\n",
       "      <td>72.0</td>\n",
       "      <td>786.0</td>\n",
       "      <td>2331.0</td>\n",
       "    </tr>\n",
       "    <tr>\n",
       "      <th>19</th>\n",
       "      <td>43.0</td>\n",
       "      <td>263.0</td>\n",
       "      <td>66.0</td>\n",
       "    </tr>\n",
       "    <tr>\n",
       "      <th>20</th>\n",
       "      <td>3311.0</td>\n",
       "      <td>11860.0</td>\n",
       "      <td>2045.0</td>\n",
       "    </tr>\n",
       "    <tr>\n",
       "      <th>21</th>\n",
       "      <td>322.0</td>\n",
       "      <td>5857.0</td>\n",
       "      <td>8710.0</td>\n",
       "    </tr>\n",
       "    <tr>\n",
       "      <th>22</th>\n",
       "      <td>811.0</td>\n",
       "      <td>4624.0</td>\n",
       "      <td>817.0</td>\n",
       "    </tr>\n",
       "    <tr>\n",
       "      <th>23</th>\n",
       "      <td>72.0</td>\n",
       "      <td>768.0</td>\n",
       "      <td>281.0</td>\n",
       "    </tr>\n",
       "    <tr>\n",
       "      <th>24</th>\n",
       "      <td>270.0</td>\n",
       "      <td>908.0</td>\n",
       "      <td>132.0</td>\n",
       "    </tr>\n",
       "    <tr>\n",
       "      <th>25</th>\n",
       "      <td>468.0</td>\n",
       "      <td>4384.0</td>\n",
       "      <td>772.0</td>\n",
       "    </tr>\n",
       "    <tr>\n",
       "      <th>26</th>\n",
       "      <td>8028.0</td>\n",
       "      <td>12645.0</td>\n",
       "      <td>1942.0</td>\n",
       "    </tr>\n",
       "    <tr>\n",
       "      <th>27</th>\n",
       "      <td>465.0</td>\n",
       "      <td>6007.0</td>\n",
       "      <td>6060.0</td>\n",
       "    </tr>\n",
       "    <tr>\n",
       "      <th>28</th>\n",
       "      <td>0.0</td>\n",
       "      <td>157.0</td>\n",
       "      <td>108.0</td>\n",
       "    </tr>\n",
       "    <tr>\n",
       "      <th>29</th>\n",
       "      <td>8.0</td>\n",
       "      <td>349.0</td>\n",
       "      <td>39.0</td>\n",
       "    </tr>\n",
       "    <tr>\n",
       "      <th>30</th>\n",
       "      <td>252.0</td>\n",
       "      <td>2127.0</td>\n",
       "      <td>307.0</td>\n",
       "    </tr>\n",
       "  </tbody>\n",
       "</table>\n",
       "</div>"
      ],
      "text/plain": [
       "damage_grade         1        2        3\n",
       "geo_level_1_id                          \n",
       "0                337.0   3075.0    599.0\n",
       "1                411.0   1985.0    305.0\n",
       "2                 85.0    610.0    236.0\n",
       "3                245.0   4550.0   2745.0\n",
       "4                521.0  11164.0   2883.0\n",
       "5                446.0   2014.0    230.0\n",
       "6               2108.0  16222.0   6051.0\n",
       "7               1033.0  11273.0   6688.0\n",
       "8                654.0   8513.0   9913.0\n",
       "9                561.0   2733.0    664.0\n",
       "10              1211.0  12107.0   8761.0\n",
       "11               386.0   4672.0   3162.0\n",
       "12               199.0   2310.0    685.0\n",
       "13              1966.0   6275.0   1367.0\n",
       "14               191.0   1247.0    276.0\n",
       "15               163.0   1673.0    484.0\n",
       "16               200.0   3188.0    944.0\n",
       "17               285.0   3913.0  17615.0\n",
       "18                72.0    786.0   2331.0\n",
       "19                43.0    263.0     66.0\n",
       "20              3311.0  11860.0   2045.0\n",
       "21               322.0   5857.0   8710.0\n",
       "22               811.0   4624.0    817.0\n",
       "23                72.0    768.0    281.0\n",
       "24               270.0    908.0    132.0\n",
       "25               468.0   4384.0    772.0\n",
       "26              8028.0  12645.0   1942.0\n",
       "27               465.0   6007.0   6060.0\n",
       "28                 0.0    157.0    108.0\n",
       "29                 8.0    349.0     39.0\n",
       "30               252.0   2127.0    307.0"
      ]
     },
     "execution_count": 63,
     "metadata": {},
     "output_type": "execute_result"
    }
   ],
   "source": [
    "damage_grade_por_region_geoLeve1=df[['geo_level_1_id','damage_grade']].value_counts().to_frame().reset_index().rename(columns={0:'count'}).pivot_table(index='geo_level_1_id',columns='damage_grade',values='count').fillna(0)\n",
    "damage_grade_por_region_geoLeve1"
   ]
  },
  {
   "cell_type": "code",
   "execution_count": 75,
   "id": "cb39835c",
   "metadata": {},
   "outputs": [
    {
     "data": {
      "image/png": "[encoded data removed]",
      "text/plain": [
       "<Figure size 1152x216 with 2 Axes>"
      ]
     },
     "metadata": {
      "needs_background": "light"
     },
     "output_type": "display_data"
    }
   ],
   "source": [
    "plt.figure(figsize=(16,3))\n",
    "sns.heatmap(data=damage_grade_por_region_geoLeve1.T,cmap=cmap)\n",
    "plt.title('Cantidad de daños de cada grado por región')\n",
    "plt.ylabel('Grado de daño')\n",
    "plt.xlabel('Region del geo_level_1')\n",
    "plt.show()"
   ]
  },
  {
   "cell_type": "markdown",
   "id": "f98f5fb2",
   "metadata": {},
   "source": [
    "En el heatmap podemos observar que en la zona geo_level1 la region con mayor daño de grado 3 es la region 17 (por mucho) y la region 6 tuvo mucho daño de grado medio.  \n",
    "Este daño: \n",
    "- ¿Se da porque hay mas edificios en la zona 17? \n",
    "- ¿Porcentualmente hay muchos edificios dañados con grado 3 en esa zona?  \n",
    "\n",
    "En caso de que la segunda pregunta sea verdadera, podemos concluir que seria una buena idea ver **qué caracteristicas diferencian** a las edificaciones de la región 17 y la region 6.  \n",
    "\n",
    "- ¿Hay diferencias en las estructuras?\n",
    "    - ¿Cantidad de pisos?\n",
    "    - ¿Cantidad de familias viviendo ahi? (¿puede ser condicion de hacinamiento?)\n",
    "    - ¿Qué dicen los datos binarios de las super_estructuras?\n",
    "- ¿Vale la pena usar el dato de geo_level_2 y geo_level_3?\n",
    "    - Debemos identificar que zonas de geo_level_2 y geo_level_3 estan dentro de geo_level_1"
   ]
  },
  {
   "cell_type": "markdown",
   "id": "a4fe3dc4",
   "metadata": {},
   "source": [
    "### Escribamos el valor de daño grado 3 con respecto al total de daños en esa zona"
   ]
  },
  {
   "cell_type": "code",
   "execution_count": 67,
   "id": "d9ae4153",
   "metadata": {},
   "outputs": [
    {
     "data": {
      "text/html": [
       "<div>\n",
       "<style scoped>\n",
       "    .dataframe tbody tr th:only-of-type {\n",
       "        vertical-align: middle;\n",
       "    }\n",
       "\n",
       "    .dataframe tbody tr th {\n",
       "        vertical-align: top;\n",
       "    }\n",
       "\n",
       "    .dataframe thead th {\n",
       "        text-align: right;\n",
       "    }\n",
       "</style>\n",
       "<table border=\"1\" class=\"dataframe\">\n",
       "  <thead>\n",
       "    <tr style=\"text-align: right;\">\n",
       "      <th>damage_grade</th>\n",
       "      <th>1</th>\n",
       "      <th>2</th>\n",
       "      <th>3</th>\n",
       "    </tr>\n",
       "    <tr>\n",
       "      <th>geo_level_1_id</th>\n",
       "      <th></th>\n",
       "      <th></th>\n",
       "      <th></th>\n",
       "    </tr>\n",
       "  </thead>\n",
       "  <tbody>\n",
       "    <tr>\n",
       "      <th>0</th>\n",
       "      <td>0.084019</td>\n",
       "      <td>0.766642</td>\n",
       "      <td>0.149339</td>\n",
       "    </tr>\n",
       "    <tr>\n",
       "      <th>1</th>\n",
       "      <td>0.152166</td>\n",
       "      <td>0.734913</td>\n",
       "      <td>0.112921</td>\n",
       "    </tr>\n",
       "    <tr>\n",
       "      <th>2</th>\n",
       "      <td>0.091300</td>\n",
       "      <td>0.655209</td>\n",
       "      <td>0.253491</td>\n",
       "    </tr>\n",
       "    <tr>\n",
       "      <th>3</th>\n",
       "      <td>0.032493</td>\n",
       "      <td>0.603448</td>\n",
       "      <td>0.364058</td>\n",
       "    </tr>\n",
       "    <tr>\n",
       "      <th>4</th>\n",
       "      <td>0.035763</td>\n",
       "      <td>0.766337</td>\n",
       "      <td>0.197900</td>\n",
       "    </tr>\n",
       "    <tr>\n",
       "      <th>5</th>\n",
       "      <td>0.165799</td>\n",
       "      <td>0.748699</td>\n",
       "      <td>0.085502</td>\n",
       "    </tr>\n",
       "    <tr>\n",
       "      <th>6</th>\n",
       "      <td>0.086461</td>\n",
       "      <td>0.665354</td>\n",
       "      <td>0.248185</td>\n",
       "    </tr>\n",
       "    <tr>\n",
       "      <th>7</th>\n",
       "      <td>0.054386</td>\n",
       "      <td>0.593503</td>\n",
       "      <td>0.352111</td>\n",
       "    </tr>\n",
       "    <tr>\n",
       "      <th>8</th>\n",
       "      <td>0.034277</td>\n",
       "      <td>0.446174</td>\n",
       "      <td>0.519549</td>\n",
       "    </tr>\n",
       "    <tr>\n",
       "      <th>9</th>\n",
       "      <td>0.141738</td>\n",
       "      <td>0.690500</td>\n",
       "      <td>0.167761</td>\n",
       "    </tr>\n",
       "    <tr>\n",
       "      <th>10</th>\n",
       "      <td>0.054848</td>\n",
       "      <td>0.548349</td>\n",
       "      <td>0.396802</td>\n",
       "    </tr>\n",
       "    <tr>\n",
       "      <th>11</th>\n",
       "      <td>0.046959</td>\n",
       "      <td>0.568370</td>\n",
       "      <td>0.384672</td>\n",
       "    </tr>\n",
       "    <tr>\n",
       "      <th>12</th>\n",
       "      <td>0.062304</td>\n",
       "      <td>0.723231</td>\n",
       "      <td>0.214465</td>\n",
       "    </tr>\n",
       "    <tr>\n",
       "      <th>13</th>\n",
       "      <td>0.204621</td>\n",
       "      <td>0.653102</td>\n",
       "      <td>0.142277</td>\n",
       "    </tr>\n",
       "    <tr>\n",
       "      <th>14</th>\n",
       "      <td>0.111435</td>\n",
       "      <td>0.727538</td>\n",
       "      <td>0.161027</td>\n",
       "    </tr>\n",
       "    <tr>\n",
       "      <th>15</th>\n",
       "      <td>0.070259</td>\n",
       "      <td>0.721121</td>\n",
       "      <td>0.208621</td>\n",
       "    </tr>\n",
       "    <tr>\n",
       "      <th>16</th>\n",
       "      <td>0.046168</td>\n",
       "      <td>0.735919</td>\n",
       "      <td>0.217913</td>\n",
       "    </tr>\n",
       "    <tr>\n",
       "      <th>17</th>\n",
       "      <td>0.013066</td>\n",
       "      <td>0.179388</td>\n",
       "      <td>0.807546</td>\n",
       "    </tr>\n",
       "    <tr>\n",
       "      <th>18</th>\n",
       "      <td>0.022578</td>\n",
       "      <td>0.246472</td>\n",
       "      <td>0.730950</td>\n",
       "    </tr>\n",
       "    <tr>\n",
       "      <th>19</th>\n",
       "      <td>0.115591</td>\n",
       "      <td>0.706989</td>\n",
       "      <td>0.177419</td>\n",
       "    </tr>\n",
       "    <tr>\n",
       "      <th>20</th>\n",
       "      <td>0.192321</td>\n",
       "      <td>0.688894</td>\n",
       "      <td>0.118785</td>\n",
       "    </tr>\n",
       "    <tr>\n",
       "      <th>21</th>\n",
       "      <td>0.021627</td>\n",
       "      <td>0.393378</td>\n",
       "      <td>0.584996</td>\n",
       "    </tr>\n",
       "    <tr>\n",
       "      <th>22</th>\n",
       "      <td>0.129718</td>\n",
       "      <td>0.739603</td>\n",
       "      <td>0.130678</td>\n",
       "    </tr>\n",
       "    <tr>\n",
       "      <th>23</th>\n",
       "      <td>0.064228</td>\n",
       "      <td>0.685103</td>\n",
       "      <td>0.250669</td>\n",
       "    </tr>\n",
       "    <tr>\n",
       "      <th>24</th>\n",
       "      <td>0.206107</td>\n",
       "      <td>0.693130</td>\n",
       "      <td>0.100763</td>\n",
       "    </tr>\n",
       "    <tr>\n",
       "      <th>25</th>\n",
       "      <td>0.083215</td>\n",
       "      <td>0.779516</td>\n",
       "      <td>0.137269</td>\n",
       "    </tr>\n",
       "    <tr>\n",
       "      <th>26</th>\n",
       "      <td>0.354986</td>\n",
       "      <td>0.559142</td>\n",
       "      <td>0.085872</td>\n",
       "    </tr>\n",
       "    <tr>\n",
       "      <th>27</th>\n",
       "      <td>0.037105</td>\n",
       "      <td>0.479333</td>\n",
       "      <td>0.483562</td>\n",
       "    </tr>\n",
       "    <tr>\n",
       "      <th>28</th>\n",
       "      <td>0.000000</td>\n",
       "      <td>0.592453</td>\n",
       "      <td>0.407547</td>\n",
       "    </tr>\n",
       "    <tr>\n",
       "      <th>29</th>\n",
       "      <td>0.020202</td>\n",
       "      <td>0.881313</td>\n",
       "      <td>0.098485</td>\n",
       "    </tr>\n",
       "    <tr>\n",
       "      <th>30</th>\n",
       "      <td>0.093820</td>\n",
       "      <td>0.791884</td>\n",
       "      <td>0.114296</td>\n",
       "    </tr>\n",
       "  </tbody>\n",
       "</table>\n",
       "</div>"
      ],
      "text/plain": [
       "damage_grade           1         2         3\n",
       "geo_level_1_id                              \n",
       "0               0.084019  0.766642  0.149339\n",
       "1               0.152166  0.734913  0.112921\n",
       "2               0.091300  0.655209  0.253491\n",
       "3               0.032493  0.603448  0.364058\n",
       "4               0.035763  0.766337  0.197900\n",
       "5               0.165799  0.748699  0.085502\n",
       "6               0.086461  0.665354  0.248185\n",
       "7               0.054386  0.593503  0.352111\n",
       "8               0.034277  0.446174  0.519549\n",
       "9               0.141738  0.690500  0.167761\n",
       "10              0.054848  0.548349  0.396802\n",
       "11              0.046959  0.568370  0.384672\n",
       "12              0.062304  0.723231  0.214465\n",
       "13              0.204621  0.653102  0.142277\n",
       "14              0.111435  0.727538  0.161027\n",
       "15              0.070259  0.721121  0.208621\n",
       "16              0.046168  0.735919  0.217913\n",
       "17              0.013066  0.179388  0.807546\n",
       "18              0.022578  0.246472  0.730950\n",
       "19              0.115591  0.706989  0.177419\n",
       "20              0.192321  0.688894  0.118785\n",
       "21              0.021627  0.393378  0.584996\n",
       "22              0.129718  0.739603  0.130678\n",
       "23              0.064228  0.685103  0.250669\n",
       "24              0.206107  0.693130  0.100763\n",
       "25              0.083215  0.779516  0.137269\n",
       "26              0.354986  0.559142  0.085872\n",
       "27              0.037105  0.479333  0.483562\n",
       "28              0.000000  0.592453  0.407547\n",
       "29              0.020202  0.881313  0.098485\n",
       "30              0.093820  0.791884  0.114296"
      ]
     },
     "execution_count": 67,
     "metadata": {},
     "output_type": "execute_result"
    }
   ],
   "source": [
    "daños_totales=damage_grade_por_region_geoLeve1[1]+damage_grade_por_region_geoLeve1[2]+damage_grade_por_region_geoLeve1[3]\n",
    "daños_porcentuales_geoLevel1=damage_grade_por_region_geoLeve1.agg(lambda x: x/daños_totales)\n",
    "daños_porcentuales_geoLevel1"
   ]
  },
  {
   "cell_type": "code",
   "execution_count": 74,
   "id": "8c97b86c",
   "metadata": {},
   "outputs": [
    {
     "data": {
      "image/png": "[encoded data removed]",
      "text/plain": [
       "<Figure size 1152x216 with 2 Axes>"
      ]
     },
     "metadata": {
      "needs_background": "light"
     },
     "output_type": "display_data"
    }
   ],
   "source": [
    "plt.figure(figsize=(16,3))\n",
    "sns.heatmap(data=daños_porcentuales_grado3_geoLevel1.T,cmap=cmap)\n",
    "plt.title('Porcentaje de grado de daño en cada región')\n",
    "plt.ylabel('Grado de daño')\n",
    "plt.xlabel('Region del geo_level_1')\n",
    "plt.show()"
   ]
  },
  {
   "cell_type": "markdown",
   "id": "2392da1f",
   "metadata": {},
   "source": [
    "El contraste entre este heatmap y el anterior es enorme.  \n",
    "Primero que nada podemos observar que el mayor porcentaje se sitúa en los daños de grado 2. Esto no es para nada raro si consideramos que, como muestra el primer grafico del notebook, la mayoria de edificios mostraron daños de grado 2.  \n",
    "Las excepciones son las zonas 17 y 18 que mostraron porcentualmente un gran daño de grado 3.  \n",
    "Podemos ver que la zona 29 tiene el mayor porcentaje de daños de grado 2 pero en el heatmap anterior **esta practicamente vacío.**  \n",
    "Esto lo podemos atribuir a que al haber tan pocos datos sobre los daños en esa zona, porcentualmente da valores muy grandes.  \n",
    "Es por eso que para eliminar estas conclusiones que pueden ser erróneas, filtraremos los datos de las zonas que esten por debajo de cierto valor.  \n",
    "Otra cosa importante a observar es que las zonas 17 y 18 son una excepcion a la regla, y muestran porcentualmente mayor cantidad de daños de grado 3. Es decir que efectivamente **fueron las zonas mas dañadas por este terremoto**. Pero no nos detenemos ahi, podemos ver que la zona 18 tiene un porcentaje de daño 3 similar a la zona 17, pero en el siguiente grafico veremos que la cantidad de daños de tipo 3 en la zona 18 son mucho menores a la zona 17, es decir **hubo mas edificios dañados en la zona 17.**"
   ]
  },
  {
   "cell_type": "code",
   "execution_count": 24,
   "id": "1770df8b",
   "metadata": {},
   "outputs": [
    {
     "data": {
      "image/png": "[encoded data removed]",
      "text/plain": [
       "<Figure size 1080x432 with 1 Axes>"
      ]
     },
     "metadata": {
      "needs_background": "light"
     },
     "output_type": "display_data"
    }
   ],
   "source": [
    "geo_level_1_damage_3=df.loc[df['damage_grade'] == 3, 'geo_level_1_id'].value_counts()\n",
    "geo_level_1_damage_3.plot(kind='bar', figsize=(15,6), rot=0, title='Daño de grado 3 en geo_level_1')\n",
    "ax=plt.gca()\n",
    "ax.set_ylabel('Cantidad de edificaciones')\n",
    "ax.set_xlabel('Region')\n",
    "plt.show()"
   ]
  },
  {
   "cell_type": "markdown",
   "id": "62cb7003",
   "metadata": {},
   "source": [
    "El mayor daño se concentra en las regiones 17,8,10,21,7,27,6.\n",
    "- ¿A que se debe esto? Son zonas con edificaciones más antiguas? Los materiales de construcciones son distintos a los de las zonas que se vieron menos afectadas?  \n",
    "Las zonas con mucho menos daños pueden ser por haber menor cantidad de edificios, es probable que tengamos que filtrar esos datos porque son ruido en nuestro análisis."
   ]
  },
  {
   "cell_type": "code",
   "execution_count": 25,
   "id": "5996e57c",
   "metadata": {},
   "outputs": [
    {
     "data": {
      "image/png": "[encoded data removed]",
      "text/plain": [
       "<Figure size 432x288 with 1 Axes>"
      ]
     },
     "metadata": {
      "needs_background": "light"
     },
     "output_type": "display_data"
    }
   ],
   "source": [
    "daños_totales=damage_grade_por_region_geoLeve1[1]+damage_grade_por_region_geoLeve1[2]+damage_grade_por_region_geoLeve1[3]\n",
    "\n",
    "daños_porcentuales_grado3_geoLevel1=damage_grade_por_region_geoLeve1.agg(lambda x: x/daños_totales)"
   ]
  },
  {
   "cell_type": "markdown",
   "id": "54793801",
   "metadata": {},
   "source": [
    "Se observa claramente que esta zona fue fuertemente afectada por el terremoto. La mayoria de edificios tuvieron un daño de grado 3, cosa que ya habiamos visto en el heatmap, pero de esta forma se ve mas claramente la diferencia. Considerando que el terremoto **tuvo la misma magnitud en todos los edificios analizados** podemos intuir que los datos de esta region nos van a dar una buena idea de que genero los mayores daños (grado 3).  \n",
    "\n",
    "Vamos a filtrar nuestro dataset. Calculamos el total de edificios dañados por region y calculamos el cuantil 25%. Nos quedamos con los valores que superen eso (de esa forma eliminamos valores muy chicos)."
   ]
  },
  {
   "cell_type": "code",
   "execution_count": 76,
   "id": "f01fa308",
   "metadata": {},
   "outputs": [
    {
     "data": {
      "image/png": "[encoded data removed]",
      "text/plain": [
       "<Figure size 1152x216 with 2 Axes>"
      ]
     },
     "metadata": {
      "needs_background": "light"
     },
     "output_type": "display_data"
    }
   ],
   "source": [
    "damage_grade_relevante_por_region=damage_grade_por_region_geoLeve1[daños_totales>daños_totales.quantile(0.25)]\n",
    "plt.figure(figsize=(16,3))\n",
    "sns.heatmap(data=damage_grade_relevante_por_region.T,cmap=cmap)\n",
    "plt.title('Cantidad de daños  en cada región relevante')\n",
    "plt.ylabel('Region del geo_level_1')\n",
    "plt.xlabel('Grado de daño')\n",
    "plt.show()"
   ]
  },
  {
   "cell_type": "code",
   "execution_count": 77,
   "id": "8538795d",
   "metadata": {},
   "outputs": [
    {
     "data": {
      "image/png": "[encoded data removed]",
      "text/plain": [
       "<Figure size 1152x216 with 2 Axes>"
      ]
     },
     "metadata": {
      "needs_background": "light"
     },
     "output_type": "display_data"
    }
   ],
   "source": [
    "daños_totales_relevantes=daños_totales[daños_totales>daños_totales.quantile(0.25)]\n",
    "daños_porcentuales_relevantes_geoLevel1=damage_grade_relevante_por_region.agg(lambda x: x/daños_totales_relevantes)\n",
    "plt.figure(figsize=(16,3))\n",
    "sns.heatmap(data=daños_porcentuales_relevantes_geoLevel1.T,cmap=cmap)\n",
    "plt.title('Porcentaje de grado de daño en cada región relevante')\n",
    "plt.ylabel('Region del geo_level_1')\n",
    "plt.xlabel('Grado de daño')\n",
    "plt.show()"
   ]
  },
  {
   "cell_type": "code",
   "execution_count": 26,
   "id": "d4f98756",
   "metadata": {},
   "outputs": [
    {
     "data": {
      "text/plain": [
       "2.3157291523403476"
      ]
     },
     "execution_count": 26,
     "metadata": {},
     "output_type": "execute_result"
    }
   ],
   "source": [
    "geo_level_1_id_17['count_floors_pre_eq'].mean()"
   ]
  },
  {
   "cell_type": "code",
   "execution_count": 27,
   "id": "8c75e165",
   "metadata": {},
   "outputs": [
    {
     "data": {
      "text/plain": [
       "2.1297232167182782"
      ]
     },
     "execution_count": 27,
     "metadata": {},
     "output_type": "execute_result"
    }
   ],
   "source": [
    "df['count_floors_pre_eq'].mean()"
   ]
  },
  {
   "cell_type": "code",
   "execution_count": 28,
   "id": "c280c25b",
   "metadata": {},
   "outputs": [
    {
     "data": {
      "image/png": "[encoded data removed]",
      "text/plain": [
       "<Figure size 1080x432 with 1 Axes>"
      ]
     },
     "metadata": {
      "needs_background": "light"
     },
     "output_type": "display_data"
    }
   ],
   "source": [
    "geo_level_1_id_17.loc[geo_level_1_id_17['damage_grade'] == 3,'geo_level_2_id'].value_counts().nlargest(30).plot(kind='bar', figsize=(15,6), rot=0)\n",
    "plt.show()"
   ]
  },
  {
   "cell_type": "markdown",
   "id": "0839a62c",
   "metadata": {},
   "source": [
    "Vemos que el promedio de pisos por edificios en la región 17 está por encima del promedio general. Es esta una constante para las regiones más damnificadas?"
   ]
  },
  {
   "cell_type": "code",
   "execution_count": 29,
   "id": "b5bb2885",
   "metadata": {},
   "outputs": [
    {
     "data": {
      "text/html": [
       "<div>\n",
       "<style scoped>\n",
       "    .dataframe tbody tr th:only-of-type {\n",
       "        vertical-align: middle;\n",
       "    }\n",
       "\n",
       "    .dataframe tbody tr th {\n",
       "        vertical-align: top;\n",
       "    }\n",
       "\n",
       "    .dataframe thead th {\n",
       "        text-align: right;\n",
       "    }\n",
       "</style>\n",
       "<table border=\"1\" class=\"dataframe\">\n",
       "  <thead>\n",
       "    <tr style=\"text-align: right;\">\n",
       "      <th></th>\n",
       "      <th>damage_grade</th>\n",
       "    </tr>\n",
       "    <tr>\n",
       "      <th>count_floors_pre_eq</th>\n",
       "      <th></th>\n",
       "    </tr>\n",
       "  </thead>\n",
       "  <tbody>\n",
       "    <tr>\n",
       "      <th>1</th>\n",
       "      <td>2.661395</td>\n",
       "    </tr>\n",
       "    <tr>\n",
       "      <th>2</th>\n",
       "      <td>2.812557</td>\n",
       "    </tr>\n",
       "    <tr>\n",
       "      <th>3</th>\n",
       "      <td>2.819620</td>\n",
       "    </tr>\n",
       "    <tr>\n",
       "      <th>4</th>\n",
       "      <td>2.333333</td>\n",
       "    </tr>\n",
       "    <tr>\n",
       "      <th>5</th>\n",
       "      <td>2.159091</td>\n",
       "    </tr>\n",
       "    <tr>\n",
       "      <th>6</th>\n",
       "      <td>1.952381</td>\n",
       "    </tr>\n",
       "    <tr>\n",
       "      <th>7</th>\n",
       "      <td>2.000000</td>\n",
       "    </tr>\n",
       "  </tbody>\n",
       "</table>\n",
       "</div>"
      ],
      "text/plain": [
       "                     damage_grade\n",
       "count_floors_pre_eq              \n",
       "1                        2.661395\n",
       "2                        2.812557\n",
       "3                        2.819620\n",
       "4                        2.333333\n",
       "5                        2.159091\n",
       "6                        1.952381\n",
       "7                        2.000000"
      ]
     },
     "execution_count": 29,
     "metadata": {},
     "output_type": "execute_result"
    }
   ],
   "source": [
    "geo_level_1_id_17[['count_floors_pre_eq', 'damage_grade']].groupby('count_floors_pre_eq').mean()"
   ]
  },
  {
   "cell_type": "code",
   "execution_count": 30,
   "id": "ce86099a",
   "metadata": {},
   "outputs": [
    {
     "data": {
      "text/plain": [
       "<AxesSubplot:xlabel='count_floors_pre_eq'>"
      ]
     },
     "execution_count": 30,
     "metadata": {},
     "output_type": "execute_result"
    },
    {
     "data": {
      "image/png": "[encoded data removed]",
      "text/plain": [
       "<Figure size 1080x432 with 1 Axes>"
      ]
     },
     "metadata": {
      "needs_background": "light"
     },
     "output_type": "display_data"
    }
   ],
   "source": [
    "geo_level_1_id_17[['count_floors_pre_eq', 'damage_grade']].value_counts().to_frame().rename(columns={0:'value_counts'}).pivot_table(index='count_floors_pre_eq', columns='damage_grade', values='value_counts').plot(kind='bar', figsize=(15,6), rot=0)"
   ]
  },
  {
   "cell_type": "code",
   "execution_count": 31,
   "id": "a7dc8b92",
   "metadata": {},
   "outputs": [
    {
     "data": {
      "text/plain": [
       "<AxesSubplot:>"
      ]
     },
     "execution_count": 31,
     "metadata": {},
     "output_type": "execute_result"
    },
    {
     "data": {
      "image/png": "[encoded data removed]",
      "text/plain": [
       "<Figure size 1080x432 with 1 Axes>"
      ]
     },
     "metadata": {
      "needs_background": "light"
     },
     "output_type": "display_data"
    }
   ],
   "source": [
    "df['geo_level_2_id'].value_counts().nlargest(30).plot(kind='bar', figsize=(15,6), rot=0)"
   ]
  },
  {
   "cell_type": "markdown",
   "id": "98e7eebd",
   "metadata": {},
   "source": [
    "## Analisis por cantidad de pisos \n",
    "Existe una relación entre la cantidad de pisos que tiene un edificio y el daño que recibio?"
   ]
  },
  {
   "cell_type": "code",
   "execution_count": 32,
   "id": "bebf769b",
   "metadata": {},
   "outputs": [
    {
     "data": {
      "text/plain": [
       "<AxesSubplot:>"
      ]
     },
     "execution_count": 32,
     "metadata": {},
     "output_type": "execute_result"
    },
    {
     "data": {
      "image/png": "[encoded data removed]",
      "text/plain": [
       "<Figure size 432x288 with 1 Axes>"
      ]
     },
     "metadata": {
      "needs_background": "light"
     },
     "output_type": "display_data"
    }
   ],
   "source": [
    "# train.loc[train['count_floors_pre_eq']]\n",
    "df['count_floors_pre_eq'].value_counts().nlargest(10).plot(kind='bar', rot=0)"
   ]
  },
  {
   "cell_type": "code",
   "execution_count": 33,
   "id": "2c3304ff",
   "metadata": {},
   "outputs": [
    {
     "data": {
      "text/plain": [
       "<AxesSubplot:xlabel='count_floors_pre_eq'>"
      ]
     },
     "execution_count": 33,
     "metadata": {},
     "output_type": "execute_result"
    },
    {
     "data": {
      "image/png": "[encoded data removed]",
      "text/plain": [
       "<Figure size 1080x432 with 1 Axes>"
      ]
     },
     "metadata": {
      "needs_background": "light"
     },
     "output_type": "display_data"
    }
   ],
   "source": [
    "df[['count_floors_pre_eq', 'damage_grade']].value_counts().to_frame().rename(columns={0:'value_counts'}).pivot_table(index='count_floors_pre_eq', columns='damage_grade', values='value_counts').plot(kind='bar', figsize=(15,6), rot=0)"
   ]
  },
  {
   "cell_type": "markdown",
   "id": "2f235bf4",
   "metadata": {},
   "source": [
    "## Analisis según las condiciones y los materiales de construcción"
   ]
  },
  {
   "cell_type": "code",
   "execution_count": 34,
   "id": "ea0b3ef9",
   "metadata": {},
   "outputs": [
    {
     "data": {
      "text/plain": [
       "<AxesSubplot:xlabel='damage_grade'>"
      ]
     },
     "execution_count": 34,
     "metadata": {},
     "output_type": "execute_result"
    },
    {
     "data": {
      "image/png": "[encoded data removed]",
      "text/plain": [
       "<Figure size 1080x432 with 1 Axes>"
      ]
     },
     "metadata": {
      "needs_background": "light"
     },
     "output_type": "display_data"
    }
   ],
   "source": [
    "superstructure = df[['has_superstructure_mud_mortar_stone', 'has_superstructure_stone_flag',\n",
    "       'has_superstructure_cement_mortar_stone',\n",
    "       'has_superstructure_mud_mortar_brick',\n",
    "       'has_superstructure_cement_mortar_brick', 'has_superstructure_timber',\n",
    "       'has_superstructure_bamboo', 'has_superstructure_rc_non_engineered',\n",
    "       'has_superstructure_rc_engineered', 'has_superstructure_other','damage_grade']]\n",
    "\n",
    "superstructure.groupby('damage_grade').agg(lambda x: x.sum() / x.count()).plot(kind='bar', figsize=(15,6), rot=0, ylim=(0,1))"
   ]
  },
  {
   "cell_type": "markdown",
   "id": "cbdc511a",
   "metadata": {},
   "source": [
    "### Edificaciones construidas con barro - piedra"
   ]
  },
  {
   "cell_type": "code",
   "execution_count": 35,
   "id": "3dc39ae4",
   "metadata": {},
   "outputs": [
    {
     "data": {
      "text/plain": [
       "True     0.761935\n",
       "False    0.238065\n",
       "Name: has_superstructure_mud_mortar_stone, dtype: float64"
      ]
     },
     "execution_count": 35,
     "metadata": {},
     "output_type": "execute_result"
    }
   ],
   "source": [
    "superstructure['has_superstructure_mud_mortar_stone'].value_counts(normalize=True)"
   ]
  },
  {
   "cell_type": "code",
   "execution_count": 36,
   "id": "7c865e5e",
   "metadata": {},
   "outputs": [
    {
     "name": "stdout",
     "output_type": "stream",
     "text": [
      "2.2382723013342236\n",
      "1.9194068343004513\n"
     ]
    }
   ],
   "source": [
    "no_superstructure_mud_mortar_stone = superstructure.loc[superstructure['has_superstructure_mud_mortar_stone'] == False, 'damage_grade']\n",
    "print(df['damage_grade'].mean())\n",
    "print(no_superstructure_mud_mortar_stone.mean())"
   ]
  },
  {
   "cell_type": "code",
   "execution_count": 37,
   "id": "36fcbca1",
   "metadata": {},
   "outputs": [
    {
     "data": {
      "text/plain": [
       "<AxesSubplot:>"
      ]
     },
     "execution_count": 37,
     "metadata": {},
     "output_type": "execute_result"
    },
    {
     "data": {
      "image/png": "[encoded data removed]",
      "text/plain": [
       "<Figure size 432x288 with 1 Axes>"
      ]
     },
     "metadata": {
      "needs_background": "light"
     },
     "output_type": "display_data"
    }
   ],
   "source": [
    "general_damage.plot(kind='bar', rot=0)"
   ]
  },
  {
   "cell_type": "code",
   "execution_count": 38,
   "id": "0b10e4d0",
   "metadata": {},
   "outputs": [
    {
     "data": {
      "text/plain": [
       "<AxesSubplot:>"
      ]
     },
     "execution_count": 38,
     "metadata": {},
     "output_type": "execute_result"
    },
    {
     "data": {
      "image/png": "[encoded data removed]",
      "text/plain": [
       "<Figure size 432x288 with 1 Axes>"
      ]
     },
     "metadata": {
      "needs_background": "light"
     },
     "output_type": "display_data"
    }
   ],
   "source": [
    "no_superstructure_mud_mortar_stone.value_counts(sort=False).plot(kind='bar', rot=0)"
   ]
  },
  {
   "cell_type": "markdown",
   "id": "f206592c",
   "metadata": {},
   "source": [
    "El 76% de las edificaciones fueron construidas con barro - piedra. Si nos quedamos solamente con aquellas edificaciones que no fueron construidas con barro - piedra vemos que el daño promedio es mucho menor al general."
   ]
  },
  {
   "cell_type": "markdown",
   "id": "8f8a287b",
   "metadata": {},
   "source": [
    "### Edificaciones construidas con cemento - piedra"
   ]
  },
  {
   "cell_type": "code",
   "execution_count": 39,
   "id": "10fad4af",
   "metadata": {},
   "outputs": [
    {
     "data": {
      "text/plain": [
       "False    0.924732\n",
       "True     0.075268\n",
       "Name: has_superstructure_cement_mortar_brick, dtype: float64"
      ]
     },
     "execution_count": 39,
     "metadata": {},
     "output_type": "execute_result"
    }
   ],
   "source": [
    "superstructure['has_superstructure_cement_mortar_brick'].value_counts(normalize=True)"
   ]
  },
  {
   "cell_type": "code",
   "execution_count": 40,
   "id": "cf63534c",
   "metadata": {},
   "outputs": [
    {
     "name": "stdout",
     "output_type": "stream",
     "text": [
      "2.2382723013342236\n",
      "1.6932959469793525\n"
     ]
    }
   ],
   "source": [
    "superstructure_cement_mortar_brick = superstructure.loc[superstructure['has_superstructure_cement_mortar_brick'] == True, 'damage_grade']\n",
    "print(df['damage_grade'].mean())\n",
    "print(superstructure_cement_mortar_brick.mean())"
   ]
  },
  {
   "cell_type": "code",
   "execution_count": 41,
   "id": "282f1434",
   "metadata": {},
   "outputs": [
    {
     "data": {
      "text/plain": [
       "<AxesSubplot:>"
      ]
     },
     "execution_count": 41,
     "metadata": {},
     "output_type": "execute_result"
    },
    {
     "data": {
      "image/png": "[encoded data removed]",
      "text/plain": [
       "<Figure size 432x288 with 1 Axes>"
      ]
     },
     "metadata": {
      "needs_background": "light"
     },
     "output_type": "display_data"
    }
   ],
   "source": [
    "superstructure_cement_mortar_brick.value_counts(sort=False).plot(kind='bar', rot=0)"
   ]
  },
  {
   "cell_type": "code",
   "execution_count": 42,
   "id": "836a840a",
   "metadata": {},
   "outputs": [
    {
     "data": {
      "text/plain": [
       "<AxesSubplot:>"
      ]
     },
     "execution_count": 42,
     "metadata": {},
     "output_type": "execute_result"
    },
    {
     "data": {
      "image/png": "[encoded data removed]",
      "text/plain": [
       "<Figure size 432x288 with 1 Axes>"
      ]
     },
     "metadata": {
      "needs_background": "light"
     },
     "output_type": "display_data"
    }
   ],
   "source": [
    "superstructure.loc[superstructure['has_superstructure_cement_mortar_brick'] == False, 'damage_grade'].value_counts(sort=False).plot(kind='bar', rot=0)"
   ]
  },
  {
   "cell_type": "markdown",
   "id": "00970eec",
   "metadata": {},
   "source": [
    "Solamente el 7,5% de las edificaciones fueron construidas con cemento - piedra. El daño promedio es mucho menor en comparación al general. Vemos que la proporcion de edificaciones que sufrieron un daño de grado 3 es notoriamente menor para aquellas construidas con estos materiales."
   ]
  },
  {
   "cell_type": "code",
   "execution_count": null,
   "id": "b42efd9d",
   "metadata": {},
   "outputs": [],
   "source": []
  }
 ],
 "metadata": {
  "kernelspec": {
   "display_name": "Python 3",
   "language": "python",
   "name": "python3"
  },
  "language_info": {
   "codemirror_mode": {
    "name": "ipython",
    "version": 3
   },
   "file_extension": ".py",
   "mimetype": "text/x-python",
   "name": "python",
   "nbconvert_exporter": "python",
   "pygments_lexer": "ipython3",
   "version": "3.8.5"
  }
 },
 "nbformat": 4,
 "nbformat_minor": 5
}
